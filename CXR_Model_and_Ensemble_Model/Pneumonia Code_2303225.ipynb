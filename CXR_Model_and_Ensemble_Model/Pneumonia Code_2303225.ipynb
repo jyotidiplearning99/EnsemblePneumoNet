{
 "cells": [
  {
   "cell_type": "code",
   "execution_count": 1,
   "id": "68521673-728b-44c7-a9dd-9e45969f309b",
   "metadata": {},
   "outputs": [],
   "source": [
    "# Add the directory to sys.path\n",
    "import sys\n",
    "sys.path.append('/scratch/project_2010376')"
   ]
  },
  {
   "cell_type": "code",
   "execution_count": 10,
   "id": "e260a052-e56d-4ecf-b4f6-b5160f4df6fd",
   "metadata": {},
   "outputs": [
    {
     "name": "stdout",
     "output_type": "stream",
     "text": [
      "📂 Found 15000 files in /scratch/project_2010376/vinbigdata-chest-xray-abnormalities-detection/train\n"
     ]
    },
    {
     "name": "stderr",
     "output_type": "stream",
     "text": [
      "100%|██████████| 15000/15000 [3:48:30<00:00,  1.09it/s]  "
     ]
    },
    {
     "name": "stdout",
     "output_type": "stream",
     "text": [
      "✅ Completed processing 15000 images out of 15000\n"
     ]
    },
    {
     "name": "stderr",
     "output_type": "stream",
     "text": [
      "\n"
     ]
    }
   ],
   "source": [
    "import os\n",
    "import cv2\n",
    "import pydicom\n",
    "import pywt\n",
    "import numpy as np\n",
    "from matplotlib import pyplot as plt\n",
    "from tqdm import tqdm\n",
    "\n",
    "# Paths\n",
    "DATA_DIR = '/scratch/project_2010376/vinbigdata-chest-xray-abnormalities-detection'\n",
    "TRAIN_DIR = os.path.join(DATA_DIR, 'train')\n",
    "PROCESSED_TRAIN_DIR = os.path.join(DATA_DIR, 'processed_train')\n",
    "\n",
    "# Create processed_train directory if it doesn't exist\n",
    "os.makedirs(PROCESSED_TRAIN_DIR, exist_ok=True)\n",
    "\n",
    "# Preprocessing params\n",
    "NLM_H = 30\n",
    "NLM_TEMPLATE_WINDOW_SIZE = 7\n",
    "NLM_SEARCH_WINDOW_SIZE = 21\n",
    "CLAHE_CLIP_LIMIT = 2.0\n",
    "CLAHE_TILE_GRID_SIZE = (8, 8)\n",
    "WAVELET = 'haar'\n",
    "\n",
    "def convert_to_8bit(image):\n",
    "    \"\"\"Normalize and convert image to 8-bit.\"\"\"\n",
    "    return cv2.normalize(image, None, 0, 255, cv2.NORM_MINMAX).astype(np.uint8)\n",
    "\n",
    "def apply_nlm_filtering(image):\n",
    "    \"\"\"Apply Non-local Means Denoising.\"\"\"\n",
    "    return cv2.fastNlMeansDenoising(image, None, NLM_H, NLM_TEMPLATE_WINDOW_SIZE, NLM_SEARCH_WINDOW_SIZE)\n",
    "\n",
    "def apply_clahe_dwt(image):\n",
    "    \"\"\"Apply CLAHE and DWT.\"\"\"\n",
    "    clahe = cv2.createCLAHE(clipLimit=CLAHE_CLIP_LIMIT, tileGridSize=CLAHE_TILE_GRID_SIZE)\n",
    "    cl1 = clahe.apply(image)\n",
    "    coeffs2 = pywt.dwt2(cl1, WAVELET)\n",
    "    LL, (LH, HL, HH) = coeffs2\n",
    "    return LL\n",
    "\n",
    "def load_dicom_image(file_path):\n",
    "    \"\"\"Load DICOM using pydicom.\"\"\"\n",
    "    try:\n",
    "        dicom_data = pydicom.dcmread(file_path)\n",
    "        image = dicom_data.pixel_array.astype(np.float32)\n",
    "        \n",
    "        # Windowing (optional): improve visibility for X-ray\n",
    "        intercept = getattr(dicom_data, \"RescaleIntercept\", 0.0)\n",
    "        slope = getattr(dicom_data, \"RescaleSlope\", 1.0)\n",
    "        image = (image * slope) + intercept\n",
    "        \n",
    "        # Normalize to 0-255 and convert to 8-bit\n",
    "        image = convert_to_8bit(image)\n",
    "        return image\n",
    "    except Exception as e:\n",
    "        print(f\"⚠️ Failed to load DICOM: {file_path}, Error: {e}\")\n",
    "        return None\n",
    "\n",
    "def process_image(input_filepath, output_filepath):\n",
    "    \"\"\"Process one image and save output.\"\"\"\n",
    "    ext = os.path.splitext(input_filepath)[-1].lower()\n",
    "    \n",
    "    if ext in ['.dcm', '.dicom']:\n",
    "        image = load_dicom_image(input_filepath)\n",
    "    else:\n",
    "        image = cv2.imread(input_filepath, cv2.IMREAD_GRAYSCALE)\n",
    "    \n",
    "    if image is None:\n",
    "        return False\n",
    "\n",
    "    try:\n",
    "        # Apply preprocessing\n",
    "        nlm_filtered = apply_nlm_filtering(image)\n",
    "        clahe_dwt = apply_clahe_dwt(nlm_filtered)\n",
    "        \n",
    "        # Save as PNG\n",
    "        plt.imsave(output_filepath, clahe_dwt, cmap='gray')\n",
    "        return True\n",
    "    except Exception as e:\n",
    "        print(f\"⚠️ Error processing {input_filepath}: {e}\")\n",
    "        return False\n",
    "\n",
    "def process_all_images(input_dir, output_dir):\n",
    "    \"\"\"Process all images in a directory.\"\"\"\n",
    "    files = sorted(os.listdir(input_dir))\n",
    "    print(f\"📂 Found {len(files)} files in {input_dir}\")\n",
    "\n",
    "    processed_count = 0\n",
    "\n",
    "    for filename in tqdm(files):\n",
    "        input_filepath = os.path.join(input_dir, filename)\n",
    "        output_filename = os.path.splitext(filename)[0] + '.png'\n",
    "        output_filepath = os.path.join(output_dir, output_filename)\n",
    "\n",
    "        if os.path.exists(output_filepath):\n",
    "            continue\n",
    "        \n",
    "        success = process_image(input_filepath, output_filepath)\n",
    "        if success:\n",
    "            processed_count += 1\n",
    "\n",
    "    print(f\"✅ Completed processing {processed_count} images out of {len(files)}\")\n",
    "\n",
    "# RUN preprocessing\n",
    "process_all_images(TRAIN_DIR, PROCESSED_TRAIN_DIR)\n"
   ]
  },
  {
   "cell_type": "code",
   "execution_count": 11,
   "id": "f2de4683-9d56-4158-b6c8-c18acbd86592",
   "metadata": {},
   "outputs": [
    {
     "name": "stdout",
     "output_type": "stream",
     "text": [
      "📂 Found 15000 unique images to process...\n"
     ]
    },
    {
     "name": "stderr",
     "output_type": "stream",
     "text": [
      "100%|██████████| 15000/15000 [20:05<00:00, 12.45it/s]\n"
     ]
    },
    {
     "name": "stdout",
     "output_type": "stream",
     "text": [
      "✅ Patches extracted:\n",
      "  Normal: 10606\n",
      "  Pneumonia: 124\n",
      "🔧 Balancing classes to 124 samples each...\n",
      "💾 Saving patches...\n",
      "✅ Patch extraction and saving completed!\n",
      "🔎 NORMAL patches: 124\n",
      "🔎 PNEUMONIA patches: 124\n"
     ]
    }
   ],
   "source": [
    "import os\n",
    "import cv2\n",
    "import pandas as pd\n",
    "import numpy as np\n",
    "from tqdm import tqdm\n",
    "\n",
    "# Directories\n",
    "BASE_DIR = '/scratch/project_2010376/vinbigdata-chest-xray-abnormalities-detection'\n",
    "PROCESSED_TRAIN_DIR = os.path.join(BASE_DIR, 'processed_train')\n",
    "PATCHED_TRAIN_DIR = os.path.join(BASE_DIR, 'patched_train')\n",
    "\n",
    "# Create the patched_train directory if not exist\n",
    "os.makedirs(PATCHED_TRAIN_DIR, exist_ok=True)\n",
    "\n",
    "# Parameters\n",
    "PATCH_SIZE = 64\n",
    "BALANCE_CLASSES = True  # If True, will undersample majority class\n",
    "\n",
    "# Read the CSV with annotations\n",
    "df = pd.read_csv(os.path.join(BASE_DIR, 'train.csv'))\n",
    "\n",
    "# Mappings for binary classification\n",
    "CATEGORY_MAPPING = {\n",
    "    14: 'No finding',      # Class 14 in VinBigData dataset\n",
    "    12: 'Pneumothorax'     # Class 12 (for Pneumonia detection task)\n",
    "}\n",
    "\n",
    "def extract_patches(image_id, bboxes, class_id):\n",
    "    \"\"\"Extract patches from image using bounding boxes.\"\"\"\n",
    "    patches = []\n",
    "    \n",
    "    # Load processed image\n",
    "    image_path = os.path.join(PROCESSED_TRAIN_DIR, f\"{image_id}.png\")\n",
    "    if not os.path.exists(image_path):\n",
    "        print(f\"⚠️ Processed image not found: {image_path}\")\n",
    "        return patches\n",
    "    \n",
    "    image = cv2.imread(image_path, cv2.IMREAD_GRAYSCALE)\n",
    "    if image is None:\n",
    "        print(f\"⚠️ Failed to load processed image: {image_path}\")\n",
    "        return patches\n",
    "\n",
    "    # If bboxes exist, extract patches\n",
    "    if len(bboxes) > 0:\n",
    "        for idx, (x_min, y_min, x_max, y_max) in enumerate(bboxes):\n",
    "            patch = image[int(y_min):int(y_max), int(x_min):int(x_max)]\n",
    "\n",
    "            # Skip if patch size is smaller than threshold\n",
    "            if patch.shape[0] < PATCH_SIZE or patch.shape[1] < PATCH_SIZE:\n",
    "                continue\n",
    "            \n",
    "            # Resize patch\n",
    "            patch_resized = cv2.resize(patch, (PATCH_SIZE, PATCH_SIZE))\n",
    "            patches.append((patch_resized, class_id))\n",
    "\n",
    "    return patches\n",
    "\n",
    "# Containers for patches\n",
    "normal_patches = []\n",
    "pneumonia_patches = []\n",
    "\n",
    "# Process each image\n",
    "image_ids = df['image_id'].unique()\n",
    "\n",
    "print(f\"📂 Found {len(image_ids)} unique images to process...\")\n",
    "\n",
    "for image_id in tqdm(image_ids):\n",
    "    group = df[df['image_id'] == image_id]\n",
    "    \n",
    "    # Get all bbox + class_id\n",
    "    bboxes = group[['x_min', 'y_min', 'x_max', 'y_max']].dropna().values\n",
    "    class_ids = group['class_id'].dropna().values.astype(int)\n",
    "\n",
    "    # If \"No finding\" exists, we process entire image as 'normal'\n",
    "    if 14 in class_ids or len(bboxes) == 0:\n",
    "        image_path = os.path.join(PROCESSED_TRAIN_DIR, f\"{image_id}.png\")\n",
    "        if os.path.exists(image_path):\n",
    "            image = cv2.imread(image_path, cv2.IMREAD_GRAYSCALE)\n",
    "            if image is None:\n",
    "                continue\n",
    "            patch_resized = cv2.resize(image, (PATCH_SIZE, PATCH_SIZE))\n",
    "            normal_patches.append(patch_resized)\n",
    "    else:\n",
    "        # Only keep patches with Pneumothorax (class 12)\n",
    "        pneumo_bboxes = []\n",
    "        for bbox, cid in zip(bboxes, class_ids):\n",
    "            if cid == 12:\n",
    "                pneumo_bboxes.append(bbox)\n",
    "\n",
    "        patches = extract_patches(image_id, pneumo_bboxes, class_id=12)\n",
    "        pneumonia_patches.extend([patch for patch, _ in patches])\n",
    "\n",
    "# Balance classes (undersample if required)\n",
    "num_normal = len(normal_patches)\n",
    "num_pneumonia = len(pneumonia_patches)\n",
    "\n",
    "print(f\"✅ Patches extracted:\\n  Normal: {num_normal}\\n  Pneumonia: {num_pneumonia}\")\n",
    "\n",
    "if BALANCE_CLASSES:\n",
    "    min_count = min(num_normal, num_pneumonia)\n",
    "    print(f\"🔧 Balancing classes to {min_count} samples each...\")\n",
    "\n",
    "    np.random.shuffle(normal_patches)\n",
    "    np.random.shuffle(pneumonia_patches)\n",
    "\n",
    "    normal_patches = normal_patches[:min_count]\n",
    "    pneumonia_patches = pneumonia_patches[:min_count]\n",
    "\n",
    "# Save patches to patched_train directory\n",
    "def save_patches(patches, label):\n",
    "    label_dir = os.path.join(PATCHED_TRAIN_DIR, label)\n",
    "    os.makedirs(label_dir, exist_ok=True)\n",
    "\n",
    "    for idx, patch in enumerate(patches):\n",
    "        file_path = os.path.join(label_dir, f\"{label}_{idx}.png\")\n",
    "        cv2.imwrite(file_path, patch)\n",
    "\n",
    "print(f\"💾 Saving patches...\")\n",
    "save_patches(normal_patches, \"NORMAL\")\n",
    "save_patches(pneumonia_patches, \"PNEUMONIA\")\n",
    "\n",
    "print(\"✅ Patch extraction and saving completed!\")\n",
    "print(f\"🔎 NORMAL patches: {len(normal_patches)}\")\n",
    "print(f\"🔎 PNEUMONIA patches: {len(pneumonia_patches)}\")\n"
   ]
  },
  {
   "cell_type": "code",
   "execution_count": 12,
   "id": "bdb21bd1-bae2-45c6-9b29-7c1bbe10c6f5",
   "metadata": {},
   "outputs": [
    {
     "name": "stdout",
     "output_type": "stream",
     "text": [
      "✅ Folders ready for saving models and histories.\n"
     ]
    }
   ],
   "source": [
    "import os\n",
    "\n",
    "MODELS_DIR = '/scratch/project_2010376/models'\n",
    "HISTORIES_DIR = '/scratch/project_2010376/histories'\n",
    "\n",
    "os.makedirs(MODELS_DIR, exist_ok=True)\n",
    "os.makedirs(HISTORIES_DIR, exist_ok=True)\n",
    "\n",
    "print(\"✅ Folders ready for saving models and histories.\")\n"
   ]
  },
  {
   "cell_type": "code",
   "execution_count": 14,
   "id": "334db821-431a-48eb-8eff-c29c5958ddbb",
   "metadata": {},
   "outputs": [
    {
     "name": "stdout",
     "output_type": "stream",
     "text": [
      "🔍 Found 15000 unique images to process...\n"
     ]
    },
    {
     "name": "stderr",
     "output_type": "stream",
     "text": [
      "100%|██████████| 15000/15000 [21:39<00:00, 11.54it/s]"
     ]
    },
    {
     "name": "stdout",
     "output_type": "stream",
     "text": [
      "✅ Patch extraction completed.\n",
      "🔎 NORMAL patches: 13373\n",
      "🔎 PNEUMONIA patches: 2184\n"
     ]
    },
    {
     "name": "stderr",
     "output_type": "stream",
     "text": [
      "\n"
     ]
    }
   ],
   "source": [
    "import os\n",
    "import pandas as pd\n",
    "import cv2\n",
    "from tqdm import tqdm\n",
    "\n",
    "# Paths\n",
    "DATA_DIR = '/scratch/project_2010376/vinbigdata-chest-xray-abnormalities-detection'\n",
    "TRAIN_CSV_PATH = os.path.join(DATA_DIR, 'train.csv')\n",
    "PROCESSED_TRAIN_DIR = os.path.join(DATA_DIR, 'processed_train')\n",
    "PATCHED_TRAIN_DIR = os.path.join(DATA_DIR, 'patched_train')\n",
    "\n",
    "PATCH_SIZE = 64\n",
    "\n",
    "# Pneumonia class IDs from VinBigData labels\n",
    "PNEUMONIA_CLASSES = [4, 6, 7, 12]  # Consolidation, Infiltration, Lung Opacity, Pneumothorax\n",
    "\n",
    "# Create folders\n",
    "os.makedirs(os.path.join(PATCHED_TRAIN_DIR, 'NORMAL'), exist_ok=True)\n",
    "os.makedirs(os.path.join(PATCHED_TRAIN_DIR, 'PNEUMONIA'), exist_ok=True)\n",
    "\n",
    "# Load train.csv\n",
    "df = pd.read_csv(TRAIN_CSV_PATH)\n",
    "\n",
    "def extract_patches():\n",
    "    pneumonia_count = 0\n",
    "    normal_count = 0\n",
    "    processed_images = set()\n",
    "\n",
    "    image_ids = df['image_id'].unique()\n",
    "    print(f\"🔍 Found {len(image_ids)} unique images to process...\")\n",
    "\n",
    "    for image_id in tqdm(image_ids):\n",
    "        image_path = os.path.join(PROCESSED_TRAIN_DIR, f\"{image_id}.png\")\n",
    "\n",
    "        if not os.path.exists(image_path):\n",
    "            print(f\"⚠️ Processed image not found: {image_path}\")\n",
    "            continue\n",
    "\n",
    "        # Read image\n",
    "        image = cv2.imread(image_path, cv2.IMREAD_GRAYSCALE)\n",
    "        if image is None:\n",
    "            print(f\"⚠️ Failed to load: {image_path}\")\n",
    "            continue\n",
    "\n",
    "        # Extract bboxes and classes\n",
    "        image_df = df[df['image_id'] == image_id]\n",
    "        class_ids = image_df['class_id'].tolist()\n",
    "\n",
    "        if any([cls in PNEUMONIA_CLASSES for cls in class_ids]):\n",
    "            # Pneumonia case\n",
    "            for idx, row in image_df.iterrows():\n",
    "                cls_id = row['class_id']\n",
    "                if cls_id not in PNEUMONIA_CLASSES:\n",
    "                    continue\n",
    "\n",
    "                bbox = [row['x_min'], row['y_min'], row['x_max'], row['y_max']]\n",
    "                if pd.isnull(bbox).any():\n",
    "                    continue\n",
    "\n",
    "                x_min, y_min, x_max, y_max = map(int, bbox)\n",
    "                patch = image[y_min:y_max, x_min:x_max]\n",
    "\n",
    "                if patch.shape[0] >= PATCH_SIZE and patch.shape[1] >= PATCH_SIZE:\n",
    "                    patch_resized = cv2.resize(patch, (PATCH_SIZE, PATCH_SIZE))\n",
    "                    filename = f\"{image_id}_{idx}_pneumonia.png\"\n",
    "                    cv2.imwrite(os.path.join(PATCHED_TRAIN_DIR, 'PNEUMONIA', filename), patch_resized)\n",
    "                    pneumonia_count += 1\n",
    "        else:\n",
    "            # Normal case\n",
    "            if image.shape[0] >= PATCH_SIZE and image.shape[1] >= PATCH_SIZE:\n",
    "                patch_resized = cv2.resize(image, (PATCH_SIZE, PATCH_SIZE))\n",
    "                filename = f\"{image_id}_normal.png\"\n",
    "                cv2.imwrite(os.path.join(PATCHED_TRAIN_DIR, 'NORMAL', filename), patch_resized)\n",
    "                normal_count += 1\n",
    "\n",
    "        processed_images.add(image_id)\n",
    "\n",
    "    print(\"✅ Patch extraction completed.\")\n",
    "    print(f\"🔎 NORMAL patches: {normal_count}\")\n",
    "    print(f\"🔎 PNEUMONIA patches: {pneumonia_count}\")\n",
    "\n",
    "extract_patches()\n"
   ]
  },
  {
   "cell_type": "code",
   "execution_count": 15,
   "id": "b17c7757-8337-4fb4-831b-16207b09035b",
   "metadata": {},
   "outputs": [
    {
     "name": "stdout",
     "output_type": "stream",
     "text": [
      "🔍 Found 13497 images in NORMAL...\n"
     ]
    },
    {
     "name": "stderr",
     "output_type": "stream",
     "text": [
      "100%|██████████| 13497/13497 [03:50<00:00, 58.59it/s]\n"
     ]
    },
    {
     "name": "stdout",
     "output_type": "stream",
     "text": [
      "🔍 Found 2308 images in PNEUMONIA...\n"
     ]
    },
    {
     "name": "stderr",
     "output_type": "stream",
     "text": [
      "100%|██████████| 2308/2308 [00:39<00:00, 58.23it/s]"
     ]
    },
    {
     "name": "stdout",
     "output_type": "stream",
     "text": [
      "✅ Data augmentation completed!\n"
     ]
    },
    {
     "name": "stderr",
     "output_type": "stream",
     "text": [
      "\n"
     ]
    }
   ],
   "source": [
    "import numpy as np\n",
    "from tensorflow.keras.preprocessing.image import ImageDataGenerator\n",
    "from tqdm import tqdm\n",
    "\n",
    "AUGMENTED_TRAIN_DIR = os.path.join(DATA_DIR, 'patched_train_augmented')\n",
    "\n",
    "# Create directories\n",
    "os.makedirs(os.path.join(AUGMENTED_TRAIN_DIR, 'NORMAL'), exist_ok=True)\n",
    "os.makedirs(os.path.join(AUGMENTED_TRAIN_DIR, 'PNEUMONIA'), exist_ok=True)\n",
    "\n",
    "# Setup ImageDataGenerator\n",
    "datagen = ImageDataGenerator(\n",
    "    rotation_range=15,\n",
    "    width_shift_range=0.1,\n",
    "    height_shift_range=0.1,\n",
    "    shear_range=0.01,\n",
    "    zoom_range=[0.9, 1.25],\n",
    "    horizontal_flip=True,\n",
    "    fill_mode='reflect'\n",
    ")\n",
    "\n",
    "def augment_class(class_name, augment_times=10):\n",
    "    input_folder = os.path.join(PATCHED_TRAIN_DIR, class_name)\n",
    "    output_folder = os.path.join(AUGMENTED_TRAIN_DIR, class_name)\n",
    "\n",
    "    images = [f for f in os.listdir(input_folder) if f.endswith('.png')]\n",
    "    print(f\"🔍 Found {len(images)} images in {class_name}...\")\n",
    "\n",
    "    for img_name in tqdm(images):\n",
    "        img_path = os.path.join(input_folder, img_name)\n",
    "        img = cv2.imread(img_path, cv2.IMREAD_GRAYSCALE)\n",
    "        if img is None:\n",
    "            continue\n",
    "\n",
    "        img = np.expand_dims(img, axis=-1)  # Add channel dimension\n",
    "        img = np.expand_dims(img, axis=0)   # Add batch dimension\n",
    "\n",
    "        # Save original\n",
    "        cv2.imwrite(os.path.join(output_folder, img_name), img.squeeze())\n",
    "\n",
    "        # Generate augmented images\n",
    "        i = 0\n",
    "        for batch in datagen.flow(img, batch_size=1):\n",
    "            aug_img = batch[0].astype('uint8').squeeze()\n",
    "            aug_filename = f\"{os.path.splitext(img_name)[0]}_aug_{i}.png\"\n",
    "            cv2.imwrite(os.path.join(output_folder, aug_filename), aug_img)\n",
    "            i += 1\n",
    "            if i >= augment_times:\n",
    "                break\n",
    "\n",
    "# Augment both classes\n",
    "augment_class('NORMAL', augment_times=10)\n",
    "augment_class('PNEUMONIA', augment_times=10)\n",
    "\n",
    "print(\"✅ Data augmentation completed!\")\n"
   ]
  },
  {
   "cell_type": "code",
   "execution_count": 17,
   "id": "5f77a517-fc72-4c8c-92a2-dac9166ed641",
   "metadata": {},
   "outputs": [
    {
     "name": "stdout",
     "output_type": "stream",
     "text": [
      "Loading NORMAL: 148467 images...\n"
     ]
    },
    {
     "name": "stderr",
     "output_type": "stream",
     "text": [
      "100%|██████████| 148467/148467 [50:29<00:00, 49.00it/s] \n"
     ]
    },
    {
     "name": "stdout",
     "output_type": "stream",
     "text": [
      "Loading PNEUMONIA: 25388 images...\n"
     ]
    },
    {
     "name": "stderr",
     "output_type": "stream",
     "text": [
      "100%|██████████| 25388/25388 [08:47<00:00, 48.11it/s]\n"
     ]
    },
    {
     "name": "stdout",
     "output_type": "stream",
     "text": [
      "✅ Dataset loaded. Total samples: 173855\n"
     ]
    }
   ],
   "source": [
    "def load_augmented_data(directory, image_size=(64, 64)):\n",
    "    images = []\n",
    "    labels = []\n",
    "    category_mapping = {\n",
    "        \"NORMAL\": 0,\n",
    "        \"PNEUMONIA\": 1\n",
    "    }\n",
    "\n",
    "    for class_name, label in category_mapping.items():\n",
    "        class_dir = os.path.join(directory, class_name)\n",
    "        files = [f for f in os.listdir(class_dir) if f.endswith('.png')]\n",
    "        print(f\"Loading {class_name}: {len(files)} images...\")\n",
    "\n",
    "        for file in tqdm(files):\n",
    "            img_path = os.path.join(class_dir, file)\n",
    "            img = cv2.imread(img_path, cv2.IMREAD_GRAYSCALE)\n",
    "            if img is None:\n",
    "                continue\n",
    "\n",
    "            img = cv2.resize(img, image_size)\n",
    "            img = img / 255.0\n",
    "            img = np.expand_dims(img, axis=-1)\n",
    "            images.append(img)\n",
    "            labels.append(label)\n",
    "\n",
    "    images = np.array(images)\n",
    "    labels = np.array(labels)\n",
    "\n",
    "    print(f\"✅ Dataset loaded. Total samples: {len(labels)}\")\n",
    "    return images, labels\n",
    "\n",
    "# Load augmented data\n",
    "AUG_PATCHED_TRAIN_DIR = '/scratch/project_2010376/vinbigdata-chest-xray-abnormalities-detection/patched_train_augmented'\n",
    "images, labels = load_augmented_data(AUG_PATCHED_TRAIN_DIR, image_size=(64, 64))\n",
    "\n",
    "# One-hot encode labels\n",
    "from tensorflow.keras.utils import to_categorical\n",
    "labels = to_categorical(labels)\n"
   ]
  },
  {
   "cell_type": "code",
   "execution_count": 19,
   "id": "3cde3c4e-82cd-4577-87d3-1a2a7ae18709",
   "metadata": {},
   "outputs": [
    {
     "name": "stdout",
     "output_type": "stream",
     "text": [
      "✅ Balanced dataset: 50776 samples\n"
     ]
    }
   ],
   "source": [
    "def balance_data(images, labels, normal_label=0, pneumonia_label=1):\n",
    "    normal_indices = np.where(np.argmax(labels, axis=1) == normal_label)[0]\n",
    "    pneumonia_indices = np.where(np.argmax(labels, axis=1) == pneumonia_label)[0]\n",
    "\n",
    "    # Match NORMAL to PNEUMONIA size\n",
    "    np.random.shuffle(normal_indices)\n",
    "    balanced_normal_indices = normal_indices[:len(pneumonia_indices)]\n",
    "\n",
    "    balanced_indices = np.concatenate([balanced_normal_indices, pneumonia_indices])\n",
    "    np.random.shuffle(balanced_indices)\n",
    "\n",
    "    return images[balanced_indices], labels[balanced_indices]\n",
    "\n",
    "# Balance dataset now\n",
    "balanced_images, balanced_labels = balance_data(images, labels)\n",
    "print(f\"✅ Balanced dataset: {balanced_images.shape[0]} samples\")\n"
   ]
  },
  {
   "cell_type": "code",
   "execution_count": 20,
   "id": "da672854-3222-4e73-a8fe-94064e092c0e",
   "metadata": {},
   "outputs": [],
   "source": [
    "from sklearn.model_selection import StratifiedKFold\n",
    "from tensorflow.keras.callbacks import EarlyStopping, ReduceLROnPlateau, ModelCheckpoint\n",
    "from tensorflow.keras.models import Model\n",
    "from tensorflow.keras.layers import Input, Conv2D, BatchNormalization, Activation, Add, MaxPooling2D, GlobalAveragePooling2D, Dense, Dropout\n",
    "from tensorflow.keras.optimizers import Adam\n",
    "\n",
    "def residual_block(x, filters, kernel_size=3):\n",
    "    shortcut = x\n",
    "\n",
    "    x = Conv2D(filters, kernel_size, padding='same')(x)\n",
    "    x = BatchNormalization()(x)\n",
    "    x = Activation('relu')(x)\n",
    "\n",
    "    x = Conv2D(filters, kernel_size, padding='same')(x)\n",
    "    x = BatchNormalization()(x)\n",
    "\n",
    "    x = Add()([shortcut, x])\n",
    "    x = Activation('relu')(x)\n",
    "    return x\n",
    "\n",
    "def create_model(input_shape=(64, 64, 1), num_classes=2):\n",
    "    inputs = Input(shape=input_shape)\n",
    "\n",
    "    x = Conv2D(32, 3, padding='same')(inputs)\n",
    "    x = BatchNormalization()(x)\n",
    "    x = Activation('relu')(x)\n",
    "\n",
    "    x = residual_block(x, 32)\n",
    "    x = MaxPooling2D()(x)\n",
    "\n",
    "    x = residual_block(x, 64)\n",
    "    x = MaxPooling2D()(x)\n",
    "\n",
    "    x = residual_block(x, 128)\n",
    "    x = MaxPooling2D()(x)\n",
    "\n",
    "    x = GlobalAveragePooling2D()(x)\n",
    "\n",
    "    x = Dense(128, activation='relu')(x)\n",
    "    x = Dropout(0.5)(x)\n",
    "    outputs = Dense(num_classes, activation='softmax')(x)\n",
    "\n",
    "    model = Model(inputs, outputs)\n",
    "    return model\n"
   ]
  },
  {
   "cell_type": "code",
   "execution_count": 22,
   "id": "68e31b22-683a-40b3-9640-29d442a2a049",
   "metadata": {},
   "outputs": [],
   "source": [
    "from tensorflow.keras.layers import Input, Conv2D, BatchNormalization, Activation, Add, MaxPooling2D, GlobalAveragePooling2D, Dense, Dropout\n",
    "from tensorflow.keras.models import Model\n",
    "\n",
    "def residual_block(x, filters, kernel_size=(3, 3)):\n",
    "    shortcut = x\n",
    "    \n",
    "    # Conv path\n",
    "    x = Conv2D(filters, kernel_size, padding='same')(x)\n",
    "    x = BatchNormalization()(x)\n",
    "    x = Activation('relu')(x)\n",
    "\n",
    "    x = Conv2D(filters, kernel_size, padding='same')(x)\n",
    "    x = BatchNormalization()(x)\n",
    "\n",
    "    # Project shortcut if needed\n",
    "    if shortcut.shape[-1] != filters:\n",
    "        shortcut = Conv2D(filters, kernel_size=(1, 1), padding='same')(shortcut)\n",
    "        shortcut = BatchNormalization()(shortcut)\n",
    "\n",
    "    # Add skip connection\n",
    "    x = Add()([shortcut, x])\n",
    "    x = Activation('relu')(x)\n",
    "    \n",
    "    return x\n",
    "\n",
    "def create_model(input_shape=(64, 64, 1), num_classes=2):\n",
    "    inputs = Input(shape=input_shape)\n",
    "\n",
    "    x = Conv2D(32, (3, 3), padding='same')(inputs)\n",
    "    x = BatchNormalization()(x)\n",
    "    x = Activation('relu')(x)\n",
    "\n",
    "    x = residual_block(x, 32)\n",
    "    x = MaxPooling2D()(x)\n",
    "\n",
    "    x = residual_block(x, 64)\n",
    "    x = MaxPooling2D()(x)\n",
    "\n",
    "    x = residual_block(x, 128)\n",
    "    x = MaxPooling2D()(x)\n",
    "\n",
    "    x = GlobalAveragePooling2D()(x)\n",
    "\n",
    "    x = Dense(256, activation='relu')(x)\n",
    "    x = Dropout(0.5)(x)\n",
    "\n",
    "    x = Dense(128, activation='relu')(x)\n",
    "    x = Dropout(0.5)(x)\n",
    "\n",
    "    outputs = Dense(num_classes, activation='softmax')(x)\n",
    "\n",
    "    model = Model(inputs, outputs)\n",
    "\n",
    "    return model\n"
   ]
  },
  {
   "cell_type": "code",
   "execution_count": 24,
   "id": "03b166d7-5fdf-41a5-a7e7-e736ec19df90",
   "metadata": {},
   "outputs": [
    {
     "name": "stdout",
     "output_type": "stream",
     "text": [
      "\n",
      "🚀 Starting Fold 1...\n",
      "\n",
      "Epoch 1/50\n",
      "\u001b[1m635/635\u001b[0m \u001b[32m━━━━━━━━━━━━━━━━━━━━\u001b[0m\u001b[37m\u001b[0m \u001b[1m405s\u001b[0m 625ms/step - accuracy: 0.8873 - loss: 0.2589 - val_accuracy: 0.9588 - val_loss: 0.1244 - learning_rate: 1.0000e-04\n",
      "Epoch 2/50\n",
      "\u001b[1m635/635\u001b[0m \u001b[32m━━━━━━━━━━━━━━━━━━━━\u001b[0m\u001b[37m\u001b[0m \u001b[1m407s\u001b[0m 641ms/step - accuracy: 0.9910 - loss: 0.0279 - val_accuracy: 0.9826 - val_loss: 0.0586 - learning_rate: 1.0000e-04\n",
      "Epoch 3/50\n",
      "\u001b[1m635/635\u001b[0m \u001b[32m━━━━━━━━━━━━━━━━━━━━\u001b[0m\u001b[37m\u001b[0m \u001b[1m418s\u001b[0m 659ms/step - accuracy: 0.9948 - loss: 0.0170 - val_accuracy: 0.9950 - val_loss: 0.0166 - learning_rate: 1.0000e-04\n",
      "Epoch 4/50\n",
      "\u001b[1m635/635\u001b[0m \u001b[32m━━━━━━━━━━━━━━━━━━━━\u001b[0m\u001b[37m\u001b[0m \u001b[1m423s\u001b[0m 666ms/step - accuracy: 0.9970 - loss: 0.0099 - val_accuracy: 0.9954 - val_loss: 0.0158 - learning_rate: 1.0000e-04\n",
      "Epoch 5/50\n",
      "\u001b[1m635/635\u001b[0m \u001b[32m━━━━━━━━━━━━━━━━━━━━\u001b[0m\u001b[37m\u001b[0m \u001b[1m428s\u001b[0m 673ms/step - accuracy: 0.9978 - loss: 0.0069 - val_accuracy: 0.9979 - val_loss: 0.0062 - learning_rate: 1.0000e-04\n",
      "Epoch 6/50\n",
      "\u001b[1m635/635\u001b[0m \u001b[32m━━━━━━━━━━━━━━━━━━━━\u001b[0m\u001b[37m\u001b[0m \u001b[1m431s\u001b[0m 679ms/step - accuracy: 0.9985 - loss: 0.0050 - val_accuracy: 0.9982 - val_loss: 0.0059 - learning_rate: 1.0000e-04\n",
      "Epoch 7/50\n",
      "\u001b[1m635/635\u001b[0m \u001b[32m━━━━━━━━━━━━━━━━━━━━\u001b[0m\u001b[37m\u001b[0m \u001b[1m424s\u001b[0m 668ms/step - accuracy: 0.9985 - loss: 0.0044 - val_accuracy: 0.9984 - val_loss: 0.0056 - learning_rate: 1.0000e-04\n",
      "Epoch 8/50\n",
      "\u001b[1m635/635\u001b[0m \u001b[32m━━━━━━━━━━━━━━━━━━━━\u001b[0m\u001b[37m\u001b[0m \u001b[1m425s\u001b[0m 669ms/step - accuracy: 0.9993 - loss: 0.0026 - val_accuracy: 0.9977 - val_loss: 0.0097 - learning_rate: 1.0000e-04\n",
      "Epoch 9/50\n",
      "\u001b[1m635/635\u001b[0m \u001b[32m━━━━━━━━━━━━━━━━━━━━\u001b[0m\u001b[37m\u001b[0m \u001b[1m420s\u001b[0m 661ms/step - accuracy: 0.9992 - loss: 0.0023 - val_accuracy: 0.9984 - val_loss: 0.0053 - learning_rate: 1.0000e-04\n",
      "Epoch 10/50\n",
      "\u001b[1m635/635\u001b[0m \u001b[32m━━━━━━━━━━━━━━━━━━━━\u001b[0m\u001b[37m\u001b[0m \u001b[1m427s\u001b[0m 673ms/step - accuracy: 0.9996 - loss: 0.0015 - val_accuracy: 0.9996 - val_loss: 0.0011 - learning_rate: 1.0000e-04\n",
      "Epoch 11/50\n",
      "\u001b[1m635/635\u001b[0m \u001b[32m━━━━━━━━━━━━━━━━━━━━\u001b[0m\u001b[37m\u001b[0m \u001b[1m425s\u001b[0m 669ms/step - accuracy: 0.9997 - loss: 0.0013 - val_accuracy: 0.9990 - val_loss: 0.0022 - learning_rate: 1.0000e-04\n",
      "Epoch 12/50\n",
      "\u001b[1m635/635\u001b[0m \u001b[32m━━━━━━━━━━━━━━━━━━━━\u001b[0m\u001b[37m\u001b[0m \u001b[1m428s\u001b[0m 674ms/step - accuracy: 0.9987 - loss: 0.0039 - val_accuracy: 0.9989 - val_loss: 0.0028 - learning_rate: 1.0000e-04\n",
      "Epoch 13/50\n",
      "\u001b[1m635/635\u001b[0m \u001b[32m━━━━━━━━━━━━━━━━━━━━\u001b[0m\u001b[37m\u001b[0m \u001b[1m421s\u001b[0m 662ms/step - accuracy: 0.9997 - loss: 9.9643e-04 - val_accuracy: 0.9990 - val_loss: 0.0025 - learning_rate: 1.0000e-04\n",
      "Epoch 14/50\n",
      "\u001b[1m635/635\u001b[0m \u001b[32m━━━━━━━━━━━━━━━━━━━━\u001b[0m\u001b[37m\u001b[0m \u001b[1m435s\u001b[0m 686ms/step - accuracy: 0.9999 - loss: 5.6478e-04 - val_accuracy: 0.9989 - val_loss: 0.0036 - learning_rate: 1.0000e-04\n",
      "Epoch 15/50\n",
      "\u001b[1m635/635\u001b[0m \u001b[32m━━━━━━━━━━━━━━━━━━━━\u001b[0m\u001b[37m\u001b[0m \u001b[1m424s\u001b[0m 667ms/step - accuracy: 0.9994 - loss: 0.0015 - val_accuracy: 0.9993 - val_loss: 0.0018 - learning_rate: 1.0000e-04\n",
      "Epoch 16/50\n",
      "\u001b[1m635/635\u001b[0m \u001b[32m━━━━━━━━━━━━━━━━━━━━\u001b[0m\u001b[37m\u001b[0m \u001b[1m424s\u001b[0m 668ms/step - accuracy: 0.9998 - loss: 7.3960e-04 - val_accuracy: 0.9993 - val_loss: 0.0019 - learning_rate: 5.0000e-05\n",
      "Epoch 17/50\n",
      "\u001b[1m635/635\u001b[0m \u001b[32m━━━━━━━━━━━━━━━━━━━━\u001b[0m\u001b[37m\u001b[0m \u001b[1m427s\u001b[0m 672ms/step - accuracy: 0.9998 - loss: 4.4246e-04 - val_accuracy: 0.9997 - val_loss: 7.3644e-04 - learning_rate: 5.0000e-05\n",
      "Epoch 18/50\n",
      "\u001b[1m635/635\u001b[0m \u001b[32m━━━━━━━━━━━━━━━━━━━━\u001b[0m\u001b[37m\u001b[0m \u001b[1m423s\u001b[0m 665ms/step - accuracy: 0.9996 - loss: 0.0011 - val_accuracy: 0.9991 - val_loss: 0.0034 - learning_rate: 5.0000e-05\n",
      "Epoch 19/50\n",
      "\u001b[1m635/635\u001b[0m \u001b[32m━━━━━━━━━━━━━━━━━━━━\u001b[0m\u001b[37m\u001b[0m \u001b[1m414s\u001b[0m 652ms/step - accuracy: 1.0000 - loss: 6.4973e-05 - val_accuracy: 0.9998 - val_loss: 6.3662e-04 - learning_rate: 5.0000e-05\n",
      "Epoch 20/50\n",
      "\u001b[1m635/635\u001b[0m \u001b[32m━━━━━━━━━━━━━━━━━━━━\u001b[0m\u001b[37m\u001b[0m \u001b[1m410s\u001b[0m 646ms/step - accuracy: 1.0000 - loss: 3.2168e-05 - val_accuracy: 0.9999 - val_loss: 5.5659e-04 - learning_rate: 5.0000e-05\n",
      "Epoch 21/50\n",
      "\u001b[1m635/635\u001b[0m \u001b[32m━━━━━━━━━━━━━━━━━━━━\u001b[0m\u001b[37m\u001b[0m \u001b[1m410s\u001b[0m 645ms/step - accuracy: 1.0000 - loss: 2.6668e-05 - val_accuracy: 0.9998 - val_loss: 6.9078e-04 - learning_rate: 5.0000e-05\n",
      "Epoch 22/50\n",
      "\u001b[1m635/635\u001b[0m \u001b[32m━━━━━━━━━━━━━━━━━━━━\u001b[0m\u001b[37m\u001b[0m \u001b[1m415s\u001b[0m 653ms/step - accuracy: 1.0000 - loss: 2.9353e-05 - val_accuracy: 0.9972 - val_loss: 0.0158 - learning_rate: 5.0000e-05\n",
      "Epoch 23/50\n",
      "\u001b[1m635/635\u001b[0m \u001b[32m━━━━━━━━━━━━━━━━━━━━\u001b[0m\u001b[37m\u001b[0m \u001b[1m414s\u001b[0m 652ms/step - accuracy: 0.9991 - loss: 0.0038 - val_accuracy: 0.9998 - val_loss: 0.0011 - learning_rate: 5.0000e-05\n",
      "Epoch 24/50\n",
      "\u001b[1m635/635\u001b[0m \u001b[32m━━━━━━━━━━━━━━━━━━━━\u001b[0m\u001b[37m\u001b[0m \u001b[1m418s\u001b[0m 657ms/step - accuracy: 0.9999 - loss: 1.1420e-04 - val_accuracy: 0.9997 - val_loss: 9.0634e-04 - learning_rate: 5.0000e-05\n",
      "Epoch 25/50\n",
      "\u001b[1m635/635\u001b[0m \u001b[32m━━━━━━━━━━━━━━━━━━━━\u001b[0m\u001b[37m\u001b[0m \u001b[1m415s\u001b[0m 653ms/step - accuracy: 1.0000 - loss: 6.7890e-05 - val_accuracy: 0.9998 - val_loss: 6.1205e-04 - learning_rate: 2.5000e-05\n",
      "Epoch 26/50\n",
      "\u001b[1m635/635\u001b[0m \u001b[32m━━━━━━━━━━━━━━━━━━━━\u001b[0m\u001b[37m\u001b[0m \u001b[1m426s\u001b[0m 671ms/step - accuracy: 1.0000 - loss: 2.7959e-05 - val_accuracy: 0.9998 - val_loss: 5.8048e-04 - learning_rate: 2.5000e-05\n",
      "Epoch 27/50\n",
      "\u001b[1m635/635\u001b[0m \u001b[32m━━━━━━━━━━━━━━━━━━━━\u001b[0m\u001b[37m\u001b[0m \u001b[1m415s\u001b[0m 654ms/step - accuracy: 1.0000 - loss: 2.8501e-05 - val_accuracy: 0.9996 - val_loss: 0.0014 - learning_rate: 2.5000e-05\n",
      "Epoch 28/50\n",
      "\u001b[1m635/635\u001b[0m \u001b[32m━━━━━━━━━━━━━━━━━━━━\u001b[0m\u001b[37m\u001b[0m \u001b[1m418s\u001b[0m 658ms/step - accuracy: 1.0000 - loss: 1.0782e-05 - val_accuracy: 0.9998 - val_loss: 7.4673e-04 - learning_rate: 2.5000e-05\n",
      "Epoch 29/50\n",
      "\u001b[1m635/635\u001b[0m \u001b[32m━━━━━━━━━━━━━━━━━━━━\u001b[0m\u001b[37m\u001b[0m \u001b[1m419s\u001b[0m 660ms/step - accuracy: 1.0000 - loss: 7.8035e-06 - val_accuracy: 0.9997 - val_loss: 9.5389e-04 - learning_rate: 2.5000e-05\n",
      "Epoch 30/50\n",
      "\u001b[1m635/635\u001b[0m \u001b[32m━━━━━━━━━━━━━━━━━━━━\u001b[0m\u001b[37m\u001b[0m \u001b[1m419s\u001b[0m 659ms/step - accuracy: 1.0000 - loss: 4.4333e-06 - val_accuracy: 0.9998 - val_loss: 7.1308e-04 - learning_rate: 1.2500e-05\n",
      "✅ Fold 1 Completed!\n",
      "\n",
      "🚀 Starting Fold 2...\n",
      "\n",
      "Epoch 1/50\n",
      "\u001b[1m635/635\u001b[0m \u001b[32m━━━━━━━━━━━━━━━━━━━━\u001b[0m\u001b[37m\u001b[0m \u001b[1m405s\u001b[0m 630ms/step - accuracy: 0.8988 - loss: 0.2399 - val_accuracy: 0.8170 - val_loss: 0.5839 - learning_rate: 1.0000e-04\n",
      "Epoch 2/50\n",
      "\u001b[1m635/635\u001b[0m \u001b[32m━━━━━━━━━━━━━━━━━━━━\u001b[0m\u001b[37m\u001b[0m \u001b[1m400s\u001b[0m 629ms/step - accuracy: 0.9935 - loss: 0.0208 - val_accuracy: 0.9957 - val_loss: 0.0132 - learning_rate: 1.0000e-04\n",
      "Epoch 3/50\n",
      "\u001b[1m635/635\u001b[0m \u001b[32m━━━━━━━━━━━━━━━━━━━━\u001b[0m\u001b[37m\u001b[0m \u001b[1m402s\u001b[0m 632ms/step - accuracy: 0.9971 - loss: 0.0099 - val_accuracy: 0.9984 - val_loss: 0.0055 - learning_rate: 1.0000e-04\n",
      "Epoch 4/50\n",
      "\u001b[1m635/635\u001b[0m \u001b[32m━━━━━━━━━━━━━━━━━━━━\u001b[0m\u001b[37m\u001b[0m \u001b[1m408s\u001b[0m 643ms/step - accuracy: 0.9978 - loss: 0.0071 - val_accuracy: 0.9955 - val_loss: 0.0131 - learning_rate: 1.0000e-04\n",
      "Epoch 5/50\n",
      "\u001b[1m635/635\u001b[0m \u001b[32m━━━━━━━━━━━━━━━━━━━━\u001b[0m\u001b[37m\u001b[0m \u001b[1m427s\u001b[0m 673ms/step - accuracy: 0.9985 - loss: 0.0052 - val_accuracy: 0.9994 - val_loss: 0.0022 - learning_rate: 1.0000e-04\n",
      "Epoch 6/50\n",
      "\u001b[1m635/635\u001b[0m \u001b[32m━━━━━━━━━━━━━━━━━━━━\u001b[0m\u001b[37m\u001b[0m \u001b[1m424s\u001b[0m 667ms/step - accuracy: 0.9989 - loss: 0.0040 - val_accuracy: 0.9982 - val_loss: 0.0056 - learning_rate: 1.0000e-04\n",
      "Epoch 7/50\n",
      "\u001b[1m635/635\u001b[0m \u001b[32m━━━━━━━━━━━━━━━━━━━━\u001b[0m\u001b[37m\u001b[0m \u001b[1m424s\u001b[0m 667ms/step - accuracy: 0.9991 - loss: 0.0028 - val_accuracy: 0.9904 - val_loss: 0.0292 - learning_rate: 1.0000e-04\n",
      "Epoch 8/50\n",
      "\u001b[1m635/635\u001b[0m \u001b[32m━━━━━━━━━━━━━━━━━━━━\u001b[0m\u001b[37m\u001b[0m \u001b[1m437s\u001b[0m 688ms/step - accuracy: 0.9994 - loss: 0.0019 - val_accuracy: 0.9990 - val_loss: 0.0032 - learning_rate: 1.0000e-04\n",
      "Epoch 9/50\n",
      "\u001b[1m635/635\u001b[0m \u001b[32m━━━━━━━━━━━━━━━━━━━━\u001b[0m\u001b[37m\u001b[0m \u001b[1m437s\u001b[0m 689ms/step - accuracy: 0.9992 - loss: 0.0031 - val_accuracy: 0.9993 - val_loss: 0.0021 - learning_rate: 1.0000e-04\n",
      "Epoch 10/50\n",
      "\u001b[1m635/635\u001b[0m \u001b[32m━━━━━━━━━━━━━━━━━━━━\u001b[0m\u001b[37m\u001b[0m \u001b[1m382s\u001b[0m 602ms/step - accuracy: 0.9995 - loss: 0.0015 - val_accuracy: 0.9991 - val_loss: 0.0026 - learning_rate: 1.0000e-04\n",
      "Epoch 11/50\n",
      "\u001b[1m635/635\u001b[0m \u001b[32m━━━━━━━━━━━━━━━━━━━━\u001b[0m\u001b[37m\u001b[0m \u001b[1m388s\u001b[0m 610ms/step - accuracy: 0.9997 - loss: 0.0011 - val_accuracy: 0.9996 - val_loss: 0.0022 - learning_rate: 5.0000e-05\n",
      "Epoch 12/50\n",
      "\u001b[1m635/635\u001b[0m \u001b[32m━━━━━━━━━━━━━━━━━━━━\u001b[0m\u001b[37m\u001b[0m \u001b[1m396s\u001b[0m 623ms/step - accuracy: 1.0000 - loss: 1.7638e-04 - val_accuracy: 0.9997 - val_loss: 7.3734e-04 - learning_rate: 5.0000e-05\n",
      "Epoch 13/50\n",
      "\u001b[1m635/635\u001b[0m \u001b[32m━━━━━━━━━━━━━━━━━━━━\u001b[0m\u001b[37m\u001b[0m \u001b[1m395s\u001b[0m 621ms/step - accuracy: 0.9999 - loss: 3.8027e-04 - val_accuracy: 0.9991 - val_loss: 0.0037 - learning_rate: 5.0000e-05\n",
      "Epoch 14/50\n",
      "\u001b[1m635/635\u001b[0m \u001b[32m━━━━━━━━━━━━━━━━━━━━\u001b[0m\u001b[37m\u001b[0m \u001b[1m397s\u001b[0m 625ms/step - accuracy: 0.9995 - loss: 0.0016 - val_accuracy: 0.9991 - val_loss: 0.0018 - learning_rate: 5.0000e-05\n",
      "Epoch 15/50\n",
      "\u001b[1m635/635\u001b[0m \u001b[32m━━━━━━━━━━━━━━━━━━━━\u001b[0m\u001b[37m\u001b[0m \u001b[1m415s\u001b[0m 653ms/step - accuracy: 0.9999 - loss: 2.6940e-04 - val_accuracy: 0.9997 - val_loss: 6.0989e-04 - learning_rate: 5.0000e-05\n",
      "Epoch 16/50\n",
      "\u001b[1m635/635\u001b[0m \u001b[32m━━━━━━━━━━━━━━━━━━━━\u001b[0m\u001b[37m\u001b[0m \u001b[1m431s\u001b[0m 678ms/step - accuracy: 0.9999 - loss: 1.5373e-04 - val_accuracy: 0.9998 - val_loss: 7.1812e-04 - learning_rate: 5.0000e-05\n",
      "Epoch 17/50\n",
      "\u001b[1m635/635\u001b[0m \u001b[32m━━━━━━━━━━━━━━━━━━━━\u001b[0m\u001b[37m\u001b[0m \u001b[1m410s\u001b[0m 646ms/step - accuracy: 0.9995 - loss: 0.0016 - val_accuracy: 0.9974 - val_loss: 0.0090 - learning_rate: 5.0000e-05\n",
      "Epoch 18/50\n",
      "\u001b[1m635/635\u001b[0m \u001b[32m━━━━━━━━━━━━━━━━━━━━\u001b[0m\u001b[37m\u001b[0m \u001b[1m416s\u001b[0m 656ms/step - accuracy: 0.9999 - loss: 4.0969e-04 - val_accuracy: 0.9995 - val_loss: 0.0022 - learning_rate: 5.0000e-05\n",
      "Epoch 19/50\n",
      "\u001b[1m635/635\u001b[0m \u001b[32m━━━━━━━━━━━━━━━━━━━━\u001b[0m\u001b[37m\u001b[0m \u001b[1m405s\u001b[0m 638ms/step - accuracy: 0.9996 - loss: 9.7164e-04 - val_accuracy: 0.9995 - val_loss: 0.0017 - learning_rate: 5.0000e-05\n",
      "Epoch 20/50\n",
      "\u001b[1m635/635\u001b[0m \u001b[32m━━━━━━━━━━━━━━━━━━━━\u001b[0m\u001b[37m\u001b[0m \u001b[1m421s\u001b[0m 663ms/step - accuracy: 1.0000 - loss: 1.0253e-04 - val_accuracy: 0.9996 - val_loss: 9.7552e-04 - learning_rate: 5.0000e-05\n",
      "Epoch 21/50\n",
      "\u001b[1m635/635\u001b[0m \u001b[32m━━━━━━━━━━━━━━━━━━━━\u001b[0m\u001b[37m\u001b[0m \u001b[1m423s\u001b[0m 666ms/step - accuracy: 1.0000 - loss: 4.1810e-05 - val_accuracy: 0.9997 - val_loss: 0.0012 - learning_rate: 5.0000e-05\n",
      "Epoch 22/50\n",
      "\u001b[1m635/635\u001b[0m \u001b[32m━━━━━━━━━━━━━━━━━━━━\u001b[0m\u001b[37m\u001b[0m \u001b[1m428s\u001b[0m 674ms/step - accuracy: 1.0000 - loss: 2.6621e-05 - val_accuracy: 0.9998 - val_loss: 7.6215e-04 - learning_rate: 2.5000e-05\n",
      "Epoch 23/50\n",
      "\u001b[1m635/635\u001b[0m \u001b[32m━━━━━━━━━━━━━━━━━━━━\u001b[0m\u001b[37m\u001b[0m \u001b[1m414s\u001b[0m 653ms/step - accuracy: 1.0000 - loss: 1.5827e-05 - val_accuracy: 0.9998 - val_loss: 7.7650e-04 - learning_rate: 2.5000e-05\n",
      "Epoch 24/50\n",
      "\u001b[1m635/635\u001b[0m \u001b[32m━━━━━━━━━━━━━━━━━━━━\u001b[0m\u001b[37m\u001b[0m \u001b[1m421s\u001b[0m 664ms/step - accuracy: 1.0000 - loss: 1.2914e-05 - val_accuracy: 0.9998 - val_loss: 6.3519e-04 - learning_rate: 2.5000e-05\n",
      "Epoch 25/50\n",
      "\u001b[1m635/635\u001b[0m \u001b[32m━━━━━━━━━━━━━━━━━━━━\u001b[0m\u001b[37m\u001b[0m \u001b[1m414s\u001b[0m 651ms/step - accuracy: 1.0000 - loss: 1.5315e-05 - val_accuracy: 0.9997 - val_loss: 6.1310e-04 - learning_rate: 2.5000e-05\n",
      "Epoch 26/50\n",
      "\u001b[1m635/635\u001b[0m \u001b[32m━━━━━━━━━━━━━━━━━━━━\u001b[0m\u001b[37m\u001b[0m \u001b[1m419s\u001b[0m 661ms/step - accuracy: 1.0000 - loss: 6.7713e-06 - val_accuracy: 0.9998 - val_loss: 7.9828e-04 - learning_rate: 2.5000e-05\n",
      "✅ Fold 2 Completed!\n",
      "\n",
      "🚀 Starting Fold 3...\n",
      "\n",
      "Epoch 1/50\n",
      "\u001b[1m635/635\u001b[0m \u001b[32m━━━━━━━━━━━━━━━━━━━━\u001b[0m\u001b[37m\u001b[0m \u001b[1m430s\u001b[0m 671ms/step - accuracy: 0.8994 - loss: 0.2397 - val_accuracy: 0.9860 - val_loss: 0.0415 - learning_rate: 1.0000e-04\n",
      "Epoch 2/50\n",
      "\u001b[1m635/635\u001b[0m \u001b[32m━━━━━━━━━━━━━━━━━━━━\u001b[0m\u001b[37m\u001b[0m \u001b[1m419s\u001b[0m 660ms/step - accuracy: 0.9904 - loss: 0.0297 - val_accuracy: 0.9955 - val_loss: 0.0137 - learning_rate: 1.0000e-04\n",
      "Epoch 3/50\n",
      "\u001b[1m635/635\u001b[0m \u001b[32m━━━━━━━━━━━━━━━━━━━━\u001b[0m\u001b[37m\u001b[0m \u001b[1m414s\u001b[0m 651ms/step - accuracy: 0.9954 - loss: 0.0133 - val_accuracy: 0.9973 - val_loss: 0.0087 - learning_rate: 1.0000e-04\n",
      "Epoch 4/50\n",
      "\u001b[1m635/635\u001b[0m \u001b[32m━━━━━━━━━━━━━━━━━━━━\u001b[0m\u001b[37m\u001b[0m \u001b[1m409s\u001b[0m 644ms/step - accuracy: 0.9971 - loss: 0.0088 - val_accuracy: 0.9980 - val_loss: 0.0074 - learning_rate: 1.0000e-04\n",
      "Epoch 5/50\n",
      "\u001b[1m635/635\u001b[0m \u001b[32m━━━━━━━━━━━━━━━━━━━━\u001b[0m\u001b[37m\u001b[0m \u001b[1m413s\u001b[0m 651ms/step - accuracy: 0.9984 - loss: 0.0052 - val_accuracy: 0.9974 - val_loss: 0.0073 - learning_rate: 1.0000e-04\n",
      "Epoch 6/50\n",
      "\u001b[1m635/635\u001b[0m \u001b[32m━━━━━━━━━━━━━━━━━━━━\u001b[0m\u001b[37m\u001b[0m \u001b[1m417s\u001b[0m 657ms/step - accuracy: 0.9985 - loss: 0.0044 - val_accuracy: 0.9902 - val_loss: 0.0319 - learning_rate: 1.0000e-04\n",
      "Epoch 7/50\n",
      "\u001b[1m635/635\u001b[0m \u001b[32m━━━━━━━━━━━━━━━━━━━━\u001b[0m\u001b[37m\u001b[0m \u001b[1m422s\u001b[0m 665ms/step - accuracy: 0.9993 - loss: 0.0028 - val_accuracy: 0.9976 - val_loss: 0.0076 - learning_rate: 1.0000e-04\n",
      "Epoch 8/50\n",
      "\u001b[1m635/635\u001b[0m \u001b[32m━━━━━━━━━━━━━━━━━━━━\u001b[0m\u001b[37m\u001b[0m \u001b[1m422s\u001b[0m 665ms/step - accuracy: 0.9991 - loss: 0.0028 - val_accuracy: 0.9971 - val_loss: 0.0091 - learning_rate: 1.0000e-04\n",
      "Epoch 9/50\n",
      "\u001b[1m635/635\u001b[0m \u001b[32m━━━━━━━━━━━━━━━━━━━━\u001b[0m\u001b[37m\u001b[0m \u001b[1m422s\u001b[0m 665ms/step - accuracy: 0.9999 - loss: 7.1152e-04 - val_accuracy: 0.9963 - val_loss: 0.0206 - learning_rate: 1.0000e-04\n",
      "Epoch 10/50\n",
      "\u001b[1m635/635\u001b[0m \u001b[32m━━━━━━━━━━━━━━━━━━━━\u001b[0m\u001b[37m\u001b[0m \u001b[1m420s\u001b[0m 662ms/step - accuracy: 0.9995 - loss: 0.0011 - val_accuracy: 0.9991 - val_loss: 0.0026 - learning_rate: 5.0000e-05\n",
      "Epoch 11/50\n",
      "\u001b[1m635/635\u001b[0m \u001b[32m━━━━━━━━━━━━━━━━━━━━\u001b[0m\u001b[37m\u001b[0m \u001b[1m414s\u001b[0m 652ms/step - accuracy: 1.0000 - loss: 3.2619e-04 - val_accuracy: 0.9995 - val_loss: 0.0015 - learning_rate: 5.0000e-05\n",
      "Epoch 12/50\n",
      "\u001b[1m635/635\u001b[0m \u001b[32m━━━━━━━━━━━━━━━━━━━━\u001b[0m\u001b[37m\u001b[0m \u001b[1m415s\u001b[0m 654ms/step - accuracy: 0.9995 - loss: 0.0019 - val_accuracy: 0.9972 - val_loss: 0.0094 - learning_rate: 5.0000e-05\n",
      "Epoch 13/50\n",
      "\u001b[1m635/635\u001b[0m \u001b[32m━━━━━━━━━━━━━━━━━━━━\u001b[0m\u001b[37m\u001b[0m \u001b[1m417s\u001b[0m 656ms/step - accuracy: 1.0000 - loss: 2.3967e-04 - val_accuracy: 0.9998 - val_loss: 7.3146e-04 - learning_rate: 5.0000e-05\n",
      "Epoch 14/50\n",
      "\u001b[1m635/635\u001b[0m \u001b[32m━━━━━━━━━━━━━━━━━━━━\u001b[0m\u001b[37m\u001b[0m \u001b[1m414s\u001b[0m 652ms/step - accuracy: 1.0000 - loss: 1.7020e-04 - val_accuracy: 0.9997 - val_loss: 0.0012 - learning_rate: 5.0000e-05\n",
      "Epoch 15/50\n",
      "\u001b[1m635/635\u001b[0m \u001b[32m━━━━━━━━━━━━━━━━━━━━\u001b[0m\u001b[37m\u001b[0m \u001b[1m419s\u001b[0m 659ms/step - accuracy: 0.9998 - loss: 7.0411e-04 - val_accuracy: 0.9953 - val_loss: 0.0230 - learning_rate: 5.0000e-05\n",
      "Epoch 16/50\n",
      "\u001b[1m635/635\u001b[0m \u001b[32m━━━━━━━━━━━━━━━━━━━━\u001b[0m\u001b[37m\u001b[0m \u001b[1m418s\u001b[0m 659ms/step - accuracy: 1.0000 - loss: 2.9393e-04 - val_accuracy: 0.9996 - val_loss: 0.0023 - learning_rate: 5.0000e-05\n",
      "Epoch 17/50\n",
      "\u001b[1m635/635\u001b[0m \u001b[32m━━━━━━━━━━━━━━━━━━━━\u001b[0m\u001b[37m\u001b[0m \u001b[1m423s\u001b[0m 666ms/step - accuracy: 0.9999 - loss: 2.6231e-04 - val_accuracy: 0.9954 - val_loss: 0.0236 - learning_rate: 5.0000e-05\n",
      "Epoch 18/50\n",
      "\u001b[1m635/635\u001b[0m \u001b[32m━━━━━━━━━━━━━━━━━━━━\u001b[0m\u001b[37m\u001b[0m \u001b[1m420s\u001b[0m 662ms/step - accuracy: 0.9993 - loss: 0.0018 - val_accuracy: 0.9996 - val_loss: 0.0014 - learning_rate: 5.0000e-05\n",
      "Epoch 19/50\n",
      "\u001b[1m635/635\u001b[0m \u001b[32m━━━━━━━━━━━━━━━━━━━━\u001b[0m\u001b[37m\u001b[0m \u001b[1m417s\u001b[0m 656ms/step - accuracy: 0.9999 - loss: 3.2597e-04 - val_accuracy: 0.9998 - val_loss: 4.2373e-04 - learning_rate: 2.5000e-05\n",
      "Epoch 20/50\n",
      "\u001b[1m635/635\u001b[0m \u001b[32m━━━━━━━━━━━━━━━━━━━━\u001b[0m\u001b[37m\u001b[0m \u001b[1m425s\u001b[0m 669ms/step - accuracy: 1.0000 - loss: 4.2003e-05 - val_accuracy: 0.9997 - val_loss: 6.1444e-04 - learning_rate: 2.5000e-05\n",
      "Epoch 21/50\n",
      "\u001b[1m635/635\u001b[0m \u001b[32m━━━━━━━━━━━━━━━━━━━━\u001b[0m\u001b[37m\u001b[0m \u001b[1m426s\u001b[0m 671ms/step - accuracy: 1.0000 - loss: 1.0810e-04 - val_accuracy: 0.9998 - val_loss: 7.6483e-04 - learning_rate: 2.5000e-05\n",
      "Epoch 22/50\n",
      "\u001b[1m635/635\u001b[0m \u001b[32m━━━━━━━━━━━━━━━━━━━━\u001b[0m\u001b[37m\u001b[0m \u001b[1m421s\u001b[0m 663ms/step - accuracy: 1.0000 - loss: 6.5371e-05 - val_accuracy: 0.9997 - val_loss: 0.0011 - learning_rate: 2.5000e-05\n",
      "Epoch 23/50\n",
      "\u001b[1m635/635\u001b[0m \u001b[32m━━━━━━━━━━━━━━━━━━━━\u001b[0m\u001b[37m\u001b[0m \u001b[1m423s\u001b[0m 667ms/step - accuracy: 0.9998 - loss: 4.5869e-04 - val_accuracy: 0.9996 - val_loss: 0.0016 - learning_rate: 2.5000e-05\n",
      "✅ Fold 3 Completed!\n",
      "\n",
      "🚀 Starting Fold 4...\n",
      "\n",
      "Epoch 1/50\n",
      "\u001b[1m635/635\u001b[0m \u001b[32m━━━━━━━━━━━━━━━━━━━━\u001b[0m\u001b[37m\u001b[0m \u001b[1m430s\u001b[0m 670ms/step - accuracy: 0.9031 - loss: 0.2328 - val_accuracy: 0.9852 - val_loss: 0.0417 - learning_rate: 1.0000e-04\n",
      "Epoch 2/50\n",
      "\u001b[1m635/635\u001b[0m \u001b[32m━━━━━━━━━━━━━━━━━━━━\u001b[0m\u001b[37m\u001b[0m \u001b[1m431s\u001b[0m 678ms/step - accuracy: 0.9928 - loss: 0.0239 - val_accuracy: 0.9925 - val_loss: 0.0233 - learning_rate: 1.0000e-04\n",
      "Epoch 3/50\n",
      "\u001b[1m635/635\u001b[0m \u001b[32m━━━━━━━━━━━━━━━━━━━━\u001b[0m\u001b[37m\u001b[0m \u001b[1m433s\u001b[0m 682ms/step - accuracy: 0.9968 - loss: 0.0103 - val_accuracy: 0.9968 - val_loss: 0.0105 - learning_rate: 1.0000e-04\n",
      "Epoch 4/50\n",
      "\u001b[1m635/635\u001b[0m \u001b[32m━━━━━━━━━━━━━━━━━━━━\u001b[0m\u001b[37m\u001b[0m \u001b[1m434s\u001b[0m 683ms/step - accuracy: 0.9982 - loss: 0.0061 - val_accuracy: 0.9978 - val_loss: 0.0076 - learning_rate: 1.0000e-04\n",
      "Epoch 5/50\n",
      "\u001b[1m635/635\u001b[0m \u001b[32m━━━━━━━━━━━━━━━━━━━━\u001b[0m\u001b[37m\u001b[0m \u001b[1m426s\u001b[0m 671ms/step - accuracy: 0.9986 - loss: 0.0040 - val_accuracy: 0.9991 - val_loss: 0.0032 - learning_rate: 1.0000e-04\n",
      "Epoch 6/50\n",
      "\u001b[1m635/635\u001b[0m \u001b[32m━━━━━━━━━━━━━━━━━━━━\u001b[0m\u001b[37m\u001b[0m \u001b[1m440s\u001b[0m 693ms/step - accuracy: 0.9988 - loss: 0.0041 - val_accuracy: 0.9985 - val_loss: 0.0051 - learning_rate: 1.0000e-04\n",
      "Epoch 7/50\n",
      "\u001b[1m635/635\u001b[0m \u001b[32m━━━━━━━━━━━━━━━━━━━━\u001b[0m\u001b[37m\u001b[0m \u001b[1m423s\u001b[0m 666ms/step - accuracy: 0.9990 - loss: 0.0036 - val_accuracy: 0.9952 - val_loss: 0.0135 - learning_rate: 1.0000e-04\n",
      "Epoch 8/50\n",
      "\u001b[1m635/635\u001b[0m \u001b[32m━━━━━━━━━━━━━━━━━━━━\u001b[0m\u001b[37m\u001b[0m \u001b[1m419s\u001b[0m 660ms/step - accuracy: 0.9992 - loss: 0.0026 - val_accuracy: 0.9995 - val_loss: 0.0023 - learning_rate: 1.0000e-04\n",
      "Epoch 9/50\n",
      "\u001b[1m635/635\u001b[0m \u001b[32m━━━━━━━━━━━━━━━━━━━━\u001b[0m\u001b[37m\u001b[0m \u001b[1m429s\u001b[0m 676ms/step - accuracy: 0.9994 - loss: 0.0020 - val_accuracy: 0.9959 - val_loss: 0.0148 - learning_rate: 1.0000e-04\n",
      "Epoch 10/50\n",
      "\u001b[1m635/635\u001b[0m \u001b[32m━━━━━━━━━━━━━━━━━━━━\u001b[0m\u001b[37m\u001b[0m \u001b[1m427s\u001b[0m 672ms/step - accuracy: 0.9993 - loss: 0.0021 - val_accuracy: 0.9940 - val_loss: 0.0183 - learning_rate: 1.0000e-04\n",
      "Epoch 11/50\n",
      "\u001b[1m635/635\u001b[0m \u001b[32m━━━━━━━━━━━━━━━━━━━━\u001b[0m\u001b[37m\u001b[0m \u001b[1m430s\u001b[0m 677ms/step - accuracy: 0.9996 - loss: 0.0012 - val_accuracy: 0.9233 - val_loss: 0.4226 - learning_rate: 1.0000e-04\n",
      "Epoch 12/50\n",
      "\u001b[1m635/635\u001b[0m \u001b[32m━━━━━━━━━━━━━━━━━━━━\u001b[0m\u001b[37m\u001b[0m \u001b[1m420s\u001b[0m 662ms/step - accuracy: 0.9994 - loss: 0.0014 - val_accuracy: 0.9994 - val_loss: 0.0026 - learning_rate: 1.0000e-04\n",
      "Epoch 13/50\n",
      "\u001b[1m635/635\u001b[0m \u001b[32m━━━━━━━━━━━━━━━━━━━━\u001b[0m\u001b[37m\u001b[0m \u001b[1m413s\u001b[0m 650ms/step - accuracy: 0.9994 - loss: 0.0015 - val_accuracy: 0.9994 - val_loss: 0.0036 - learning_rate: 1.0000e-04\n",
      "Epoch 14/50\n",
      "\u001b[1m635/635\u001b[0m \u001b[32m━━━━━━━━━━━━━━━━━━━━\u001b[0m\u001b[37m\u001b[0m \u001b[1m414s\u001b[0m 652ms/step - accuracy: 1.0000 - loss: 1.3277e-04 - val_accuracy: 0.9997 - val_loss: 0.0027 - learning_rate: 5.0000e-05\n",
      "Epoch 15/50\n",
      "\u001b[1m635/635\u001b[0m \u001b[32m━━━━━━━━━━━━━━━━━━━━\u001b[0m\u001b[37m\u001b[0m \u001b[1m411s\u001b[0m 648ms/step - accuracy: 1.0000 - loss: 6.5502e-05 - val_accuracy: 0.9998 - val_loss: 0.0025 - learning_rate: 5.0000e-05\n",
      "Epoch 16/50\n",
      "\u001b[1m635/635\u001b[0m \u001b[32m━━━━━━━━━━━━━━━━━━━━\u001b[0m\u001b[37m\u001b[0m \u001b[1m419s\u001b[0m 659ms/step - accuracy: 1.0000 - loss: 2.1932e-05 - val_accuracy: 0.9998 - val_loss: 0.0026 - learning_rate: 5.0000e-05\n",
      "Epoch 17/50\n",
      "\u001b[1m635/635\u001b[0m \u001b[32m━━━━━━━━━━━━━━━━━━━━\u001b[0m\u001b[37m\u001b[0m \u001b[1m423s\u001b[0m 666ms/step - accuracy: 1.0000 - loss: 1.7479e-05 - val_accuracy: 0.9997 - val_loss: 0.0027 - learning_rate: 5.0000e-05\n",
      "Epoch 18/50\n",
      "\u001b[1m635/635\u001b[0m \u001b[32m━━━━━━━━━━━━━━━━━━━━\u001b[0m\u001b[37m\u001b[0m \u001b[1m428s\u001b[0m 674ms/step - accuracy: 0.9998 - loss: 6.5039e-04 - val_accuracy: 0.9989 - val_loss: 0.0052 - learning_rate: 5.0000e-05\n",
      "Epoch 19/50\n",
      "\u001b[1m635/635\u001b[0m \u001b[32m━━━━━━━━━━━━━━━━━━━━\u001b[0m\u001b[37m\u001b[0m \u001b[1m434s\u001b[0m 684ms/step - accuracy: 0.9998 - loss: 3.2804e-04 - val_accuracy: 0.9986 - val_loss: 0.0072 - learning_rate: 5.0000e-05\n",
      "Epoch 20/50\n",
      "\u001b[1m635/635\u001b[0m \u001b[32m━━━━━━━━━━━━━━━━━━━━\u001b[0m\u001b[37m\u001b[0m \u001b[1m425s\u001b[0m 669ms/step - accuracy: 1.0000 - loss: 5.9966e-05 - val_accuracy: 0.9996 - val_loss: 0.0028 - learning_rate: 2.5000e-05\n",
      "Epoch 21/50\n",
      "\u001b[1m635/635\u001b[0m \u001b[32m━━━━━━━━━━━━━━━━━━━━\u001b[0m\u001b[37m\u001b[0m \u001b[1m428s\u001b[0m 674ms/step - accuracy: 1.0000 - loss: 3.7875e-05 - val_accuracy: 0.9997 - val_loss: 0.0028 - learning_rate: 2.5000e-05\n",
      "Epoch 22/50\n",
      "\u001b[1m635/635\u001b[0m \u001b[32m━━━━━━━━━━━━━━━━━━━━\u001b[0m\u001b[37m\u001b[0m \u001b[1m426s\u001b[0m 671ms/step - accuracy: 1.0000 - loss: 7.0157e-05 - val_accuracy: 0.9998 - val_loss: 0.0026 - learning_rate: 2.5000e-05\n",
      "Epoch 23/50\n",
      "\u001b[1m635/635\u001b[0m \u001b[32m━━━━━━━━━━━━━━━━━━━━\u001b[0m\u001b[37m\u001b[0m \u001b[1m440s\u001b[0m 693ms/step - accuracy: 1.0000 - loss: 1.0713e-04 - val_accuracy: 0.9998 - val_loss: 0.0030 - learning_rate: 2.5000e-05\n",
      "Epoch 24/50\n",
      "\u001b[1m635/635\u001b[0m \u001b[32m━━━━━━━━━━━━━━━━━━━━\u001b[0m\u001b[37m\u001b[0m \u001b[1m436s\u001b[0m 687ms/step - accuracy: 1.0000 - loss: 5.2853e-05 - val_accuracy: 0.9998 - val_loss: 0.0023 - learning_rate: 2.5000e-05\n",
      "Epoch 25/50\n",
      "\u001b[1m635/635\u001b[0m \u001b[32m━━━━━━━━━━━━━━━━━━━━\u001b[0m\u001b[37m\u001b[0m \u001b[1m441s\u001b[0m 695ms/step - accuracy: 1.0000 - loss: 9.5434e-06 - val_accuracy: 0.9998 - val_loss: 0.0024 - learning_rate: 1.2500e-05\n",
      "✅ Fold 4 Completed!\n",
      "\n",
      "🚀 Starting Fold 5...\n",
      "\n",
      "Epoch 1/50\n",
      "\u001b[1m635/635\u001b[0m \u001b[32m━━━━━━━━━━━━━━━━━━━━\u001b[0m\u001b[37m\u001b[0m \u001b[1m402s\u001b[0m 627ms/step - accuracy: 0.8963 - loss: 0.2485 - val_accuracy: 0.9814 - val_loss: 0.0548 - learning_rate: 1.0000e-04\n",
      "Epoch 2/50\n",
      "\u001b[1m635/635\u001b[0m \u001b[32m━━━━━━━━━━━━━━━━━━━━\u001b[0m\u001b[37m\u001b[0m \u001b[1m391s\u001b[0m 615ms/step - accuracy: 0.9922 - loss: 0.0246 - val_accuracy: 0.9774 - val_loss: 0.0676 - learning_rate: 1.0000e-04\n",
      "Epoch 3/50\n",
      "\u001b[1m635/635\u001b[0m \u001b[32m━━━━━━━━━━━━━━━━━━━━\u001b[0m\u001b[37m\u001b[0m \u001b[1m396s\u001b[0m 623ms/step - accuracy: 0.9963 - loss: 0.0126 - val_accuracy: 0.9909 - val_loss: 0.0299 - learning_rate: 1.0000e-04\n",
      "Epoch 4/50\n",
      "\u001b[1m635/635\u001b[0m \u001b[32m━━━━━━━━━━━━━━━━━━━━\u001b[0m\u001b[37m\u001b[0m \u001b[1m392s\u001b[0m 617ms/step - accuracy: 0.9977 - loss: 0.0083 - val_accuracy: 0.9972 - val_loss: 0.0067 - learning_rate: 1.0000e-04\n",
      "Epoch 5/50\n",
      "\u001b[1m635/635\u001b[0m \u001b[32m━━━━━━━━━━━━━━━━━━━━\u001b[0m\u001b[37m\u001b[0m \u001b[1m404s\u001b[0m 637ms/step - accuracy: 0.9976 - loss: 0.0067 - val_accuracy: 0.9983 - val_loss: 0.0063 - learning_rate: 1.0000e-04\n",
      "Epoch 6/50\n",
      "\u001b[1m635/635\u001b[0m \u001b[32m━━━━━━━━━━━━━━━━━━━━\u001b[0m\u001b[37m\u001b[0m \u001b[1m407s\u001b[0m 641ms/step - accuracy: 0.9974 - loss: 0.0064 - val_accuracy: 0.9989 - val_loss: 0.0032 - learning_rate: 1.0000e-04\n",
      "Epoch 7/50\n",
      "\u001b[1m635/635\u001b[0m \u001b[32m━━━━━━━━━━━━━━━━━━━━\u001b[0m\u001b[37m\u001b[0m \u001b[1m410s\u001b[0m 646ms/step - accuracy: 0.9987 - loss: 0.0042 - val_accuracy: 0.9989 - val_loss: 0.0039 - learning_rate: 1.0000e-04\n",
      "Epoch 8/50\n",
      "\u001b[1m635/635\u001b[0m \u001b[32m━━━━━━━━━━━━━━━━━━━━\u001b[0m\u001b[37m\u001b[0m \u001b[1m402s\u001b[0m 633ms/step - accuracy: 0.9992 - loss: 0.0022 - val_accuracy: 0.9989 - val_loss: 0.0040 - learning_rate: 1.0000e-04\n",
      "Epoch 9/50\n",
      "\u001b[1m635/635\u001b[0m \u001b[32m━━━━━━━━━━━━━━━━━━━━\u001b[0m\u001b[37m\u001b[0m \u001b[1m386s\u001b[0m 608ms/step - accuracy: 0.9991 - loss: 0.0023 - val_accuracy: 0.9986 - val_loss: 0.0037 - learning_rate: 1.0000e-04\n",
      "Epoch 10/50\n",
      "\u001b[1m635/635\u001b[0m \u001b[32m━━━━━━━━━━━━━━━━━━━━\u001b[0m\u001b[37m\u001b[0m \u001b[1m394s\u001b[0m 620ms/step - accuracy: 0.9992 - loss: 0.0026 - val_accuracy: 0.9893 - val_loss: 0.0447 - learning_rate: 1.0000e-04\n",
      "Epoch 11/50\n",
      "\u001b[1m635/635\u001b[0m \u001b[32m━━━━━━━━━━━━━━━━━━━━\u001b[0m\u001b[37m\u001b[0m \u001b[1m390s\u001b[0m 614ms/step - accuracy: 0.9989 - loss: 0.0037 - val_accuracy: 0.9968 - val_loss: 0.0120 - learning_rate: 1.0000e-04\n",
      "Epoch 12/50\n",
      "\u001b[1m635/635\u001b[0m \u001b[32m━━━━━━━━━━━━━━━━━━━━\u001b[0m\u001b[37m\u001b[0m \u001b[1m393s\u001b[0m 618ms/step - accuracy: 0.9997 - loss: 0.0019 - val_accuracy: 0.9989 - val_loss: 0.0042 - learning_rate: 5.0000e-05\n",
      "Epoch 13/50\n",
      "\u001b[1m635/635\u001b[0m \u001b[32m━━━━━━━━━━━━━━━━━━━━\u001b[0m\u001b[37m\u001b[0m \u001b[1m392s\u001b[0m 617ms/step - accuracy: 0.9998 - loss: 6.4893e-04 - val_accuracy: 0.9991 - val_loss: 0.0033 - learning_rate: 5.0000e-05\n",
      "Epoch 14/50\n",
      "\u001b[1m635/635\u001b[0m \u001b[32m━━━━━━━━━━━━━━━━━━━━\u001b[0m\u001b[37m\u001b[0m \u001b[1m376s\u001b[0m 592ms/step - accuracy: 0.9999 - loss: 3.7985e-04 - val_accuracy: 0.9994 - val_loss: 0.0028 - learning_rate: 5.0000e-05\n",
      "Epoch 15/50\n",
      "\u001b[1m635/635\u001b[0m \u001b[32m━━━━━━━━━━━━━━━━━━━━\u001b[0m\u001b[37m\u001b[0m \u001b[1m366s\u001b[0m 577ms/step - accuracy: 1.0000 - loss: 8.2731e-05 - val_accuracy: 0.9992 - val_loss: 0.0032 - learning_rate: 5.0000e-05\n",
      "Epoch 16/50\n",
      "\u001b[1m635/635\u001b[0m \u001b[32m━━━━━━━━━━━━━━━━━━━━\u001b[0m\u001b[37m\u001b[0m \u001b[1m373s\u001b[0m 587ms/step - accuracy: 0.9996 - loss: 0.0015 - val_accuracy: 0.9994 - val_loss: 0.0025 - learning_rate: 5.0000e-05\n",
      "Epoch 17/50\n",
      "\u001b[1m635/635\u001b[0m \u001b[32m━━━━━━━━━━━━━━━━━━━━\u001b[0m\u001b[37m\u001b[0m \u001b[1m390s\u001b[0m 615ms/step - accuracy: 0.9998 - loss: 6.1742e-04 - val_accuracy: 0.9992 - val_loss: 0.0035 - learning_rate: 5.0000e-05\n",
      "Epoch 18/50\n",
      "\u001b[1m635/635\u001b[0m \u001b[32m━━━━━━━━━━━━━━━━━━━━\u001b[0m\u001b[37m\u001b[0m \u001b[1m391s\u001b[0m 615ms/step - accuracy: 1.0000 - loss: 1.1638e-04 - val_accuracy: 0.9991 - val_loss: 0.0057 - learning_rate: 5.0000e-05\n",
      "Epoch 19/50\n",
      "\u001b[1m635/635\u001b[0m \u001b[32m━━━━━━━━━━━━━━━━━━━━\u001b[0m\u001b[37m\u001b[0m \u001b[1m393s\u001b[0m 619ms/step - accuracy: 1.0000 - loss: 7.7753e-05 - val_accuracy: 0.9992 - val_loss: 0.0040 - learning_rate: 5.0000e-05\n",
      "Epoch 20/50\n",
      "\u001b[1m635/635\u001b[0m \u001b[32m━━━━━━━━━━━━━━━━━━━━\u001b[0m\u001b[37m\u001b[0m \u001b[1m392s\u001b[0m 617ms/step - accuracy: 1.0000 - loss: 3.2472e-05 - val_accuracy: 0.9992 - val_loss: 0.0044 - learning_rate: 2.5000e-05\n",
      "Epoch 21/50\n",
      "\u001b[1m635/635\u001b[0m \u001b[32m━━━━━━━━━━━━━━━━━━━━\u001b[0m\u001b[37m\u001b[0m \u001b[1m390s\u001b[0m 614ms/step - accuracy: 1.0000 - loss: 2.2822e-05 - val_accuracy: 0.9993 - val_loss: 0.0036 - learning_rate: 2.5000e-05\n",
      "Epoch 22/50\n",
      "\u001b[1m635/635\u001b[0m \u001b[32m━━━━━━━━━━━━━━━━━━━━\u001b[0m\u001b[37m\u001b[0m \u001b[1m391s\u001b[0m 616ms/step - accuracy: 1.0000 - loss: 2.8504e-05 - val_accuracy: 0.9993 - val_loss: 0.0038 - learning_rate: 2.5000e-05\n",
      "Epoch 23/50\n",
      "\u001b[1m635/635\u001b[0m \u001b[32m━━━━━━━━━━━━━━━━━━━━\u001b[0m\u001b[37m\u001b[0m \u001b[1m390s\u001b[0m 613ms/step - accuracy: 0.9999 - loss: 1.4665e-04 - val_accuracy: 0.9986 - val_loss: 0.0084 - learning_rate: 2.5000e-05\n",
      "Epoch 24/50\n",
      "\u001b[1m635/635\u001b[0m \u001b[32m━━━━━━━━━━━━━━━━━━━━\u001b[0m\u001b[37m\u001b[0m \u001b[1m376s\u001b[0m 592ms/step - accuracy: 1.0000 - loss: 5.1649e-05 - val_accuracy: 0.9991 - val_loss: 0.0040 - learning_rate: 2.5000e-05\n",
      "✅ Fold 5 Completed!\n"
     ]
    }
   ],
   "source": [
    "from tensorflow.keras.callbacks import EarlyStopping, ReduceLROnPlateau, ModelCheckpoint\n",
    "from tensorflow.keras.optimizers import Adam\n",
    "\n",
    "kfold = StratifiedKFold(n_splits=5, shuffle=True, random_state=42)\n",
    "fold_no = 1\n",
    "\n",
    "y_labels = np.argmax(balanced_labels, axis=1)\n",
    "\n",
    "for train_index, val_index in kfold.split(balanced_images, y_labels):\n",
    "    print(f\"\\n🚀 Starting Fold {fold_no}...\\n\")\n",
    "\n",
    "    X_train, X_val = balanced_images[train_index], balanced_images[val_index]\n",
    "    y_train, y_val = balanced_labels[train_index], balanced_labels[val_index]\n",
    "\n",
    "    # Create model\n",
    "    model = create_model()  \n",
    "    \n",
    "    # ✅ Compile model BEFORE fitting\n",
    "    model.compile(\n",
    "        optimizer=Adam(learning_rate=1e-4),  \n",
    "        loss='categorical_crossentropy',\n",
    "        metrics=['accuracy']\n",
    "    )\n",
    "    \n",
    "    # Callbacks\n",
    "    checkpoint = ModelCheckpoint(f'/scratch/project_2010376/models/cnn_model_fold_{fold_no}.keras',\n",
    "                                 monitor='val_accuracy', save_best_only=True, mode='max')\n",
    "    early_stop = EarlyStopping(monitor='val_accuracy', patience=10, restore_best_weights=True)\n",
    "    reduce_lr = ReduceLROnPlateau(monitor='val_accuracy', factor=0.5, patience=5, min_lr=1e-7)\n",
    "\n",
    "    # ✅ Train model\n",
    "    history = model.fit(\n",
    "        X_train, y_train,\n",
    "        validation_data=(X_val, y_val),\n",
    "        epochs=50,\n",
    "        batch_size=64,\n",
    "        callbacks=[checkpoint, early_stop, reduce_lr]\n",
    "    )\n",
    "\n",
    "    print(f\"✅ Fold {fold_no} Completed!\")\n",
    "    fold_no += 1\n"
   ]
  },
  {
   "cell_type": "code",
   "execution_count": 28,
   "id": "b8dd2587-3623-4bde-9a5b-d591bd4a7b51",
   "metadata": {},
   "outputs": [],
   "source": [
    "import os\n",
    "import cv2\n",
    "import numpy as np\n",
    "from tqdm import tqdm\n",
    "from tensorflow.keras.utils import to_categorical\n"
   ]
  },
  {
   "cell_type": "code",
   "execution_count": 29,
   "id": "9e4e8535-9887-42e0-ba62-8da4d9b8c8b5",
   "metadata": {},
   "outputs": [],
   "source": [
    "GUANGZHOU_ROOT_DIR = '/scratch/project_2010376/Guangzhou_X_ray_dataset/chest_xray'\n",
    "GUANGZHOU_TRAIN_DIR = os.path.join(GUANGZHOU_ROOT_DIR, 'train')\n",
    "GUANGZHOU_VAL_DIR = os.path.join(GUANGZHOU_ROOT_DIR, 'val')\n",
    "GUANGZHOU_TEST_DIR = os.path.join(GUANGZHOU_ROOT_DIR, 'test')\n"
   ]
  },
  {
   "cell_type": "code",
   "execution_count": 36,
   "id": "5c8a6ff5-80bb-4bbe-88e2-1e44f42d9691",
   "metadata": {},
   "outputs": [
    {
     "name": "stdout",
     "output_type": "stream",
     "text": [
      "🔄 Processing train/NORMAL...\n"
     ]
    },
    {
     "name": "stderr",
     "output_type": "stream",
     "text": [
      "  0%|          | 0/1341 [00:00<?, ?it/s][ WARN:0@92400.163] global loadsave.cpp:848 imwrite_ Unsupported depth image for selected encoder is fallbacked to CV_8U.\n",
      "100%|██████████| 1341/1341 [03:41<00:00,  6.06it/s]\n"
     ]
    },
    {
     "name": "stdout",
     "output_type": "stream",
     "text": [
      "🔄 Processing train/PNEUMONIA...\n"
     ]
    },
    {
     "name": "stderr",
     "output_type": "stream",
     "text": [
      "100%|██████████| 3875/3875 [08:17<00:00,  7.79it/s]\n"
     ]
    },
    {
     "name": "stdout",
     "output_type": "stream",
     "text": [
      "🔄 Processing val/NORMAL...\n"
     ]
    },
    {
     "name": "stderr",
     "output_type": "stream",
     "text": [
      "100%|██████████| 8/8 [00:01<00:00,  7.11it/s]\n"
     ]
    },
    {
     "name": "stdout",
     "output_type": "stream",
     "text": [
      "🔄 Processing val/PNEUMONIA...\n"
     ]
    },
    {
     "name": "stderr",
     "output_type": "stream",
     "text": [
      "100%|██████████| 8/8 [00:01<00:00,  7.85it/s]\n"
     ]
    },
    {
     "name": "stdout",
     "output_type": "stream",
     "text": [
      "🔄 Processing test/NORMAL...\n"
     ]
    },
    {
     "name": "stderr",
     "output_type": "stream",
     "text": [
      "100%|██████████| 234/234 [00:38<00:00,  6.06it/s]\n"
     ]
    },
    {
     "name": "stdout",
     "output_type": "stream",
     "text": [
      "🔄 Processing test/PNEUMONIA...\n"
     ]
    },
    {
     "name": "stderr",
     "output_type": "stream",
     "text": [
      "100%|██████████| 390/390 [00:49<00:00,  7.82it/s]"
     ]
    },
    {
     "name": "stdout",
     "output_type": "stream",
     "text": [
      "✅ Preprocessing complete!\n"
     ]
    },
    {
     "name": "stderr",
     "output_type": "stream",
     "text": [
      "\n"
     ]
    }
   ],
   "source": [
    "import os\n",
    "import cv2\n",
    "import numpy as np\n",
    "import pywt\n",
    "from tqdm import tqdm\n",
    "from matplotlib import pyplot as plt\n",
    "\n",
    "# Constants (adjust if needed)\n",
    "NLM_H = 30\n",
    "NLM_TEMPLATE_WINDOW_SIZE = 7\n",
    "NLM_SEARCH_WINDOW_SIZE = 21\n",
    "CLAHE_CLIP_LIMIT = 2.0\n",
    "CLAHE_TILE_GRID_SIZE = (8, 8)\n",
    "WAVELET = 'haar'\n",
    "\n",
    "# Input & Output paths\n",
    "INPUT_BASE_DIR = '/scratch/project_2010376/Guangzhou_X_ray_dataset/chest_xray'\n",
    "OUTPUT_BASE_DIR = '/scratch/project_2010376/Guangzhou_X_ray_dataset/processed_chest_xray'\n",
    "\n",
    "# Ensure output directories exist\n",
    "for folder in ['train', 'val', 'test']:\n",
    "    for label in ['NORMAL', 'PNEUMONIA']:\n",
    "        os.makedirs(os.path.join(OUTPUT_BASE_DIR, folder, label), exist_ok=True)\n",
    "\n",
    "# Define preprocessing functions\n",
    "def convert_to_8bit(image):\n",
    "    \"\"\"Normalize and convert image to 8-bit.\"\"\"\n",
    "    return cv2.normalize(image, None, 0, 255, cv2.NORM_MINMAX).astype(np.uint8)\n",
    "\n",
    "def apply_nlm_filtering(image):\n",
    "    \"\"\"Non-local means denoising.\"\"\"\n",
    "    return cv2.fastNlMeansDenoising(image, None, NLM_H, NLM_TEMPLATE_WINDOW_SIZE, NLM_SEARCH_WINDOW_SIZE)\n",
    "\n",
    "def apply_clahe_dwt(image):\n",
    "    \"\"\"CLAHE followed by DWT (returns the LL band).\"\"\"\n",
    "    clahe = cv2.createCLAHE(clipLimit=CLAHE_CLIP_LIMIT, tileGridSize=CLAHE_TILE_GRID_SIZE)\n",
    "    clahe_img = clahe.apply(image)\n",
    "    coeffs2 = pywt.dwt2(clahe_img, WAVELET)\n",
    "    LL, (LH, HL, HH) = coeffs2\n",
    "    return LL\n",
    "\n",
    "def preprocess_image(image_path):\n",
    "    \"\"\"Run all preprocessing steps.\"\"\"\n",
    "    img = cv2.imread(image_path, cv2.IMREAD_GRAYSCALE)\n",
    "    if img is None:\n",
    "        print(f\"Failed to load: {image_path}\")\n",
    "        return None\n",
    "    \n",
    "    img_8bit = convert_to_8bit(img)\n",
    "    img_nlm = apply_nlm_filtering(img_8bit)\n",
    "    img_clahe_dwt = apply_clahe_dwt(img_nlm)\n",
    "    \n",
    "    \n",
    "    processed_img = cv2.resize(img_clahe_dwt, (64, 64))\n",
    "    \n",
    "    return processed_img\n",
    "\n",
    "# Process all images in folder\n",
    "def process_dataset(subfolder):\n",
    "    input_dir = os.path.join(INPUT_BASE_DIR, subfolder)\n",
    "    output_dir = os.path.join(OUTPUT_BASE_DIR, subfolder)\n",
    "\n",
    "    for class_label in ['NORMAL', 'PNEUMONIA']:\n",
    "        input_class_dir = os.path.join(input_dir, class_label)\n",
    "        output_class_dir = os.path.join(output_dir, class_label)\n",
    "        \n",
    "        print(f\"🔄 Processing {subfolder}/{class_label}...\")\n",
    "\n",
    "        image_files = [f for f in os.listdir(input_class_dir) if f.lower().endswith(('.png', '.jpg', '.jpeg'))]\n",
    "        \n",
    "        for img_file in tqdm(image_files):\n",
    "            input_img_path = os.path.join(input_class_dir, img_file)\n",
    "            output_img_path = os.path.join(output_class_dir, img_file)\n",
    "\n",
    "            processed_img = preprocess_image(input_img_path)\n",
    "            if processed_img is not None:\n",
    "                cv2.imwrite(output_img_path, processed_img)\n",
    "\n",
    "# Process train, val, and test sets\n",
    "for folder in ['train', 'val', 'test']:\n",
    "    process_dataset(folder)\n",
    "\n",
    "print(\"✅ Preprocessing complete!\")\n"
   ]
  },
  {
   "cell_type": "code",
   "execution_count": 42,
   "id": "375be7d6-5133-4915-aa2f-d2f63027d347",
   "metadata": {},
   "outputs": [
    {
     "name": "stdout",
     "output_type": "stream",
     "text": [
      "\n",
      "🔎 Processing folder: train...\n",
      "📂 Loading 1341 images from train/NORMAL...\n"
     ]
    },
    {
     "name": "stderr",
     "output_type": "stream",
     "text": [
      "train/NORMAL: 100%|██████████| 1341/1341 [00:23<00:00, 57.50it/s]\n"
     ]
    },
    {
     "name": "stdout",
     "output_type": "stream",
     "text": [
      "📂 Loading 3875 images from train/PNEUMONIA...\n"
     ]
    },
    {
     "name": "stderr",
     "output_type": "stream",
     "text": [
      "train/PNEUMONIA: 100%|██████████| 3875/3875 [01:01<00:00, 63.18it/s]\n"
     ]
    },
    {
     "name": "stdout",
     "output_type": "stream",
     "text": [
      "\n",
      "🔎 Processing folder: val...\n",
      "📂 Loading 8 images from val/NORMAL...\n"
     ]
    },
    {
     "name": "stderr",
     "output_type": "stream",
     "text": [
      "val/NORMAL: 100%|██████████| 8/8 [00:00<00:00, 53.56it/s]\n"
     ]
    },
    {
     "name": "stdout",
     "output_type": "stream",
     "text": [
      "📂 Loading 8 images from val/PNEUMONIA...\n"
     ]
    },
    {
     "name": "stderr",
     "output_type": "stream",
     "text": [
      "val/PNEUMONIA: 100%|██████████| 8/8 [00:00<00:00, 56.42it/s]\n"
     ]
    },
    {
     "name": "stdout",
     "output_type": "stream",
     "text": [
      "\n",
      "🔎 Processing folder: test...\n",
      "📂 Loading 234 images from test/NORMAL...\n"
     ]
    },
    {
     "name": "stderr",
     "output_type": "stream",
     "text": [
      "test/NORMAL: 100%|██████████| 234/234 [00:03<00:00, 64.84it/s]\n"
     ]
    },
    {
     "name": "stdout",
     "output_type": "stream",
     "text": [
      "📂 Loading 390 images from test/PNEUMONIA...\n"
     ]
    },
    {
     "name": "stderr",
     "output_type": "stream",
     "text": [
      "test/PNEUMONIA: 100%|██████████| 390/390 [00:06<00:00, 63.14it/s]"
     ]
    },
    {
     "name": "stdout",
     "output_type": "stream",
     "text": [
      "\n",
      "✅ Loaded 5856 images in total from Guangzhou processed dataset.\n",
      "Class distribution: NORMAL = 1583, PNEUMONIA = 4273\n",
      "🖼️ Images shape: (5856, 64, 64, 1)\n",
      "🏷️ Labels shape: (5856, 2)\n"
     ]
    },
    {
     "name": "stderr",
     "output_type": "stream",
     "text": [
      "\n"
     ]
    }
   ],
   "source": [
    "import os\n",
    "import cv2\n",
    "import numpy as np\n",
    "from tqdm import tqdm\n",
    "from tensorflow.keras.utils import to_categorical\n",
    "\n",
    "def load_processed_guangzhou_data(base_dir, image_size=(64, 64)):\n",
    "    images = []\n",
    "    labels = []\n",
    "    \n",
    "    class_map = {\n",
    "        'NORMAL': 0,\n",
    "        'PNEUMONIA': 1\n",
    "    }\n",
    "\n",
    "    # Iterate over train, val, and test folders\n",
    "    for dataset_type in ['train', 'val', 'test']:\n",
    "        print(f\"\\n🔎 Processing folder: {dataset_type}...\")\n",
    "\n",
    "        for label_name, label_id in class_map.items():\n",
    "            img_dir = os.path.join(base_dir, dataset_type, label_name)\n",
    "\n",
    "            if not os.path.exists(img_dir):\n",
    "                print(f\"❌ Folder not found: {img_dir}\")\n",
    "                continue\n",
    "\n",
    "            img_files = [f for f in os.listdir(img_dir) if f.lower().endswith(('.png', '.jpg', '.jpeg'))]\n",
    "\n",
    "            print(f\"📂 Loading {len(img_files)} images from {dataset_type}/{label_name}...\")\n",
    "\n",
    "            for img_file in tqdm(img_files, desc=f'{dataset_type}/{label_name}'):\n",
    "                img_path = os.path.join(img_dir, img_file)\n",
    "\n",
    "                # Read the image\n",
    "                img = cv2.imread(img_path, cv2.IMREAD_GRAYSCALE)\n",
    "\n",
    "                if img is None:\n",
    "                    print(f\"⚠️ Failed to load: {img_path}\")\n",
    "                    continue\n",
    "\n",
    "                # Resize and normalize\n",
    "                img = cv2.resize(img, image_size)\n",
    "                img = img / 255.0\n",
    "                img = np.expand_dims(img, axis=-1)  # Add channel dimension\n",
    "\n",
    "                images.append(img)\n",
    "                labels.append(label_id)\n",
    "\n",
    "    images = np.array(images)\n",
    "    labels = np.array(labels)\n",
    "\n",
    "    # Convert labels to categorical\n",
    "    labels_cat = to_categorical(labels)\n",
    "\n",
    "    print(f\"\\n✅ Loaded {len(images)} images in total from Guangzhou processed dataset.\")\n",
    "    print(f\"Class distribution: NORMAL = {np.sum(labels == 0)}, PNEUMONIA = {np.sum(labels == 1)}\")\n",
    "\n",
    "    return images, labels_cat\n",
    "\n",
    "\n",
    "processed_guangzhou_dir = '/scratch/project_2010376/Guangzhou_X_ray_dataset/processed_chest_xray'\n",
    "\n",
    "# Load data\n",
    "guangzhou_images, guangzhou_labels = load_processed_guangzhou_data(processed_guangzhou_dir, image_size=(64, 64))\n",
    "\n",
    "print(f\"🖼️ Images shape: {guangzhou_images.shape}\")\n",
    "print(f\"🏷️ Labels shape: {guangzhou_labels.shape}\")\n"
   ]
  },
  {
   "cell_type": "code",
   "execution_count": 43,
   "id": "2810a505-b04f-4e19-a50f-68e7ad0e9c7f",
   "metadata": {},
   "outputs": [
    {
     "name": "stdout",
     "output_type": "stream",
     "text": [
      "\u001b[1m183/183\u001b[0m \u001b[32m━━━━━━━━━━━━━━━━━━━━\u001b[0m\u001b[37m\u001b[0m \u001b[1m4s\u001b[0m 23ms/step\n",
      "✅ Guangzhou Dataset Accuracy: 0.3011\n",
      "              precision    recall  f1-score   support\n",
      "\n",
      "      NORMAL       0.28      1.00      0.44      1583\n",
      "   PNEUMONIA       0.96      0.04      0.08      4273\n",
      "\n",
      "    accuracy                           0.30      5856\n",
      "   macro avg       0.62      0.52      0.26      5856\n",
      "weighted avg       0.78      0.30      0.18      5856\n",
      "\n",
      "[[1576    7]\n",
      " [4086  187]]\n"
     ]
    }
   ],
   "source": [
    "from tensorflow.keras.models import load_model\n",
    "\n",
    "# Load the best model\n",
    "best_model = load_model('/scratch/project_2010376/models/cnn_model_fold_1.keras')\n",
    "\n",
    "# Predict on Guangzhou dataset\n",
    "predictions = best_model.predict(guangzhou_images)\n",
    "\n",
    "# Convert predictions to class labels\n",
    "predicted_classes = np.argmax(predictions, axis=1)\n",
    "true_classes = np.argmax(guangzhou_labels, axis=1)\n",
    "\n",
    "# Evaluate accuracy\n",
    "from sklearn.metrics import accuracy_score, classification_report, confusion_matrix\n",
    "\n",
    "accuracy = accuracy_score(true_classes, predicted_classes)\n",
    "print(f\"✅ Guangzhou Dataset Accuracy: {accuracy:.4f}\")\n",
    "\n",
    "# Detailed report\n",
    "print(classification_report(true_classes, predicted_classes, target_names=['NORMAL', 'PNEUMONIA']))\n",
    "\n",
    "# Confusion Matrix\n",
    "print(confusion_matrix(true_classes, predicted_classes))\n"
   ]
  },
  {
   "cell_type": "code",
   "execution_count": 44,
   "id": "3382100a-9654-43da-b7fc-23c8b30f0250",
   "metadata": {},
   "outputs": [],
   "source": [
    "##"
   ]
  },
  {
   "cell_type": "code",
   "execution_count": 45,
   "id": "9edd053e-63b0-45e2-b919-601c696b4a1c",
   "metadata": {},
   "outputs": [],
   "source": [
    "from tensorflow.keras.models import load_model\n",
    "from tensorflow.keras.optimizers import Adam\n",
    "\n",
    "\n",
    "model = load_model('/scratch/project_2010376/models/cnn_model_fold_1.keras')\n",
    "\n",
    "\n",
    "model.compile(optimizer=Adam(learning_rate=1e-5),  # Fine-tuning LR\n",
    "              loss='categorical_crossentropy',\n",
    "              metrics=['accuracy'])\n"
   ]
  },
  {
   "cell_type": "code",
   "execution_count": 46,
   "id": "3e49b071-694d-4345-82c7-8f01b7e18202",
   "metadata": {},
   "outputs": [
    {
     "name": "stdout",
     "output_type": "stream",
     "text": [
      "\n",
      "🔎 Processing folder: train...\n",
      "📂 Loading 1341 images from train/NORMAL...\n"
     ]
    },
    {
     "name": "stderr",
     "output_type": "stream",
     "text": [
      "train/NORMAL: 100%|██████████| 1341/1341 [00:00<00:00, 2225.09it/s]\n"
     ]
    },
    {
     "name": "stdout",
     "output_type": "stream",
     "text": [
      "📂 Loading 3875 images from train/PNEUMONIA...\n"
     ]
    },
    {
     "name": "stderr",
     "output_type": "stream",
     "text": [
      "train/PNEUMONIA: 100%|██████████| 3875/3875 [00:01<00:00, 2255.52it/s]\n"
     ]
    },
    {
     "name": "stdout",
     "output_type": "stream",
     "text": [
      "\n",
      "🔎 Processing folder: val...\n",
      "📂 Loading 8 images from val/NORMAL...\n"
     ]
    },
    {
     "name": "stderr",
     "output_type": "stream",
     "text": [
      "val/NORMAL: 100%|██████████| 8/8 [00:00<00:00, 2222.74it/s]\n"
     ]
    },
    {
     "name": "stdout",
     "output_type": "stream",
     "text": [
      "📂 Loading 8 images from val/PNEUMONIA...\n"
     ]
    },
    {
     "name": "stderr",
     "output_type": "stream",
     "text": [
      "val/PNEUMONIA: 100%|██████████| 8/8 [00:00<00:00, 2203.90it/s]\n"
     ]
    },
    {
     "name": "stdout",
     "output_type": "stream",
     "text": [
      "\n",
      "🔎 Processing folder: test...\n",
      "📂 Loading 234 images from test/NORMAL...\n"
     ]
    },
    {
     "name": "stderr",
     "output_type": "stream",
     "text": [
      "test/NORMAL: 100%|██████████| 234/234 [00:00<00:00, 2248.66it/s]\n"
     ]
    },
    {
     "name": "stdout",
     "output_type": "stream",
     "text": [
      "📂 Loading 390 images from test/PNEUMONIA...\n"
     ]
    },
    {
     "name": "stderr",
     "output_type": "stream",
     "text": [
      "test/PNEUMONIA: 100%|██████████| 390/390 [00:00<00:00, 2269.16it/s]\n"
     ]
    },
    {
     "name": "stdout",
     "output_type": "stream",
     "text": [
      "\n",
      "✅ Loaded 5856 images in total from Guangzhou processed dataset.\n",
      "Class distribution: NORMAL = 1583, PNEUMONIA = 4273\n"
     ]
    }
   ],
   "source": [
    "\n",
    "guangzhou_images, guangzhou_labels = load_processed_guangzhou_data(\n",
    "    '/scratch/project_2010376/Guangzhou_X_ray_dataset/processed_chest_xray',\n",
    "    image_size=(64, 64)\n",
    ")\n",
    "\n"
   ]
  },
  {
   "cell_type": "code",
   "execution_count": 47,
   "id": "190d8e9b-1b82-4798-819e-3b0ff73a5d75",
   "metadata": {},
   "outputs": [
    {
     "name": "stdout",
     "output_type": "stream",
     "text": [
      "Epoch 1/20\n",
      "\u001b[1m74/74\u001b[0m \u001b[32m━━━━━━━━━━━━━━━━━━━━\u001b[0m\u001b[37m\u001b[0m \u001b[1m50s\u001b[0m 613ms/step - accuracy: 0.5699 - loss: 4.5097 - val_accuracy: 0.3285 - val_loss: 8.6239 - learning_rate: 1.0000e-05\n",
      "Epoch 2/20\n",
      "\u001b[1m74/74\u001b[0m \u001b[32m━━━━━━━━━━━━━━━━━━━━\u001b[0m\u001b[37m\u001b[0m \u001b[1m48s\u001b[0m 642ms/step - accuracy: 0.8141 - loss: 1.1971 - val_accuracy: 0.8217 - val_loss: 1.0442 - learning_rate: 1.0000e-05\n",
      "Epoch 3/20\n",
      "\u001b[1m74/74\u001b[0m \u001b[32m━━━━━━━━━━━━━━━━━━━━\u001b[0m\u001b[37m\u001b[0m \u001b[1m48s\u001b[0m 643ms/step - accuracy: 0.8835 - loss: 0.5465 - val_accuracy: 0.8268 - val_loss: 1.4096 - learning_rate: 1.0000e-05\n",
      "Epoch 4/20\n",
      "\u001b[1m74/74\u001b[0m \u001b[32m━━━━━━━━━━━━━━━━━━━━\u001b[0m\u001b[37m\u001b[0m \u001b[1m49s\u001b[0m 659ms/step - accuracy: 0.8986 - loss: 0.3880 - val_accuracy: 0.8276 - val_loss: 1.4108 - learning_rate: 1.0000e-05\n",
      "Epoch 5/20\n",
      "\u001b[1m74/74\u001b[0m \u001b[32m━━━━━━━━━━━━━━━━━━━━\u001b[0m\u001b[37m\u001b[0m \u001b[1m50s\u001b[0m 675ms/step - accuracy: 0.9093 - loss: 0.3000 - val_accuracy: 0.8208 - val_loss: 1.4215 - learning_rate: 1.0000e-05\n",
      "Epoch 6/20\n",
      "\u001b[1m74/74\u001b[0m \u001b[32m━━━━━━━━━━━━━━━━━━━━\u001b[0m\u001b[37m\u001b[0m \u001b[1m51s\u001b[0m 684ms/step - accuracy: 0.9202 - loss: 0.2662 - val_accuracy: 0.8268 - val_loss: 1.2795 - learning_rate: 1.0000e-05\n",
      "Epoch 7/20\n",
      "\u001b[1m74/74\u001b[0m \u001b[32m━━━━━━━━━━━━━━━━━━━━\u001b[0m\u001b[37m\u001b[0m \u001b[1m50s\u001b[0m 679ms/step - accuracy: 0.9207 - loss: 0.2328 - val_accuracy: 0.8328 - val_loss: 1.1318 - learning_rate: 1.0000e-05\n",
      "Epoch 8/20\n",
      "\u001b[1m74/74\u001b[0m \u001b[32m━━━━━━━━━━━━━━━━━━━━\u001b[0m\u001b[37m\u001b[0m \u001b[1m50s\u001b[0m 675ms/step - accuracy: 0.9242 - loss: 0.2088 - val_accuracy: 0.8362 - val_loss: 0.9734 - learning_rate: 1.0000e-05\n",
      "Epoch 9/20\n",
      "\u001b[1m74/74\u001b[0m \u001b[32m━━━━━━━━━━━━━━━━━━━━\u001b[0m\u001b[37m\u001b[0m \u001b[1m50s\u001b[0m 677ms/step - accuracy: 0.9325 - loss: 0.2023 - val_accuracy: 0.8430 - val_loss: 0.8182 - learning_rate: 1.0000e-05\n",
      "Epoch 10/20\n",
      "\u001b[1m74/74\u001b[0m \u001b[32m━━━━━━━━━━━━━━━━━━━━\u001b[0m\u001b[37m\u001b[0m \u001b[1m49s\u001b[0m 664ms/step - accuracy: 0.9357 - loss: 0.1863 - val_accuracy: 0.8439 - val_loss: 0.7069 - learning_rate: 1.0000e-05\n",
      "Epoch 11/20\n",
      "\u001b[1m74/74\u001b[0m \u001b[32m━━━━━━━━━━━━━━━━━━━━\u001b[0m\u001b[37m\u001b[0m \u001b[1m50s\u001b[0m 679ms/step - accuracy: 0.9373 - loss: 0.1691 - val_accuracy: 0.8439 - val_loss: 0.6864 - learning_rate: 1.0000e-05\n",
      "Epoch 12/20\n",
      "\u001b[1m74/74\u001b[0m \u001b[32m━━━━━━━━━━━━━━━━━━━━\u001b[0m\u001b[37m\u001b[0m \u001b[1m53s\u001b[0m 715ms/step - accuracy: 0.9377 - loss: 0.1628 - val_accuracy: 0.8464 - val_loss: 0.6640 - learning_rate: 1.0000e-05\n",
      "Epoch 13/20\n",
      "\u001b[1m74/74\u001b[0m \u001b[32m━━━━━━━━━━━━━━━━━━━━\u001b[0m\u001b[37m\u001b[0m \u001b[1m51s\u001b[0m 687ms/step - accuracy: 0.9416 - loss: 0.1563 - val_accuracy: 0.8456 - val_loss: 0.5746 - learning_rate: 1.0000e-05\n",
      "Epoch 14/20\n",
      "\u001b[1m74/74\u001b[0m \u001b[32m━━━━━━━━━━━━━━━━━━━━\u001b[0m\u001b[37m\u001b[0m \u001b[1m49s\u001b[0m 662ms/step - accuracy: 0.9454 - loss: 0.1515 - val_accuracy: 0.8490 - val_loss: 0.6121 - learning_rate: 1.0000e-05\n",
      "Epoch 15/20\n",
      "\u001b[1m74/74\u001b[0m \u001b[32m━━━━━━━━━━━━━━━━━━━━\u001b[0m\u001b[37m\u001b[0m \u001b[1m51s\u001b[0m 693ms/step - accuracy: 0.9448 - loss: 0.1394 - val_accuracy: 0.8524 - val_loss: 0.5265 - learning_rate: 1.0000e-05\n",
      "Epoch 16/20\n",
      "\u001b[1m74/74\u001b[0m \u001b[32m━━━━━━━━━━━━━━━━━━━━\u001b[0m\u001b[37m\u001b[0m \u001b[1m50s\u001b[0m 675ms/step - accuracy: 0.9484 - loss: 0.1357 - val_accuracy: 0.8507 - val_loss: 0.5232 - learning_rate: 1.0000e-05\n",
      "Epoch 17/20\n",
      "\u001b[1m74/74\u001b[0m \u001b[32m━━━━━━━━━━━━━━━━━━━━\u001b[0m\u001b[37m\u001b[0m \u001b[1m51s\u001b[0m 685ms/step - accuracy: 0.9483 - loss: 0.1303 - val_accuracy: 0.8558 - val_loss: 0.4955 - learning_rate: 1.0000e-05\n",
      "Epoch 18/20\n",
      "\u001b[1m74/74\u001b[0m \u001b[32m━━━━━━━━━━━━━━━━━━━━\u001b[0m\u001b[37m\u001b[0m \u001b[1m50s\u001b[0m 670ms/step - accuracy: 0.9541 - loss: 0.1244 - val_accuracy: 0.8575 - val_loss: 0.4818 - learning_rate: 1.0000e-05\n",
      "Epoch 19/20\n",
      "\u001b[1m74/74\u001b[0m \u001b[32m━━━━━━━━━━━━━━━━━━━━\u001b[0m\u001b[37m\u001b[0m \u001b[1m52s\u001b[0m 698ms/step - accuracy: 0.9542 - loss: 0.1192 - val_accuracy: 0.8567 - val_loss: 0.4778 - learning_rate: 1.0000e-05\n",
      "Epoch 20/20\n",
      "\u001b[1m74/74\u001b[0m \u001b[32m━━━━━━━━━━━━━━━━━━━━\u001b[0m\u001b[37m\u001b[0m \u001b[1m49s\u001b[0m 657ms/step - accuracy: 0.9564 - loss: 0.1142 - val_accuracy: 0.8601 - val_loss: 0.4835 - learning_rate: 1.0000e-05\n"
     ]
    }
   ],
   "source": [
    "from tensorflow.keras.callbacks import EarlyStopping, ReduceLROnPlateau, ModelCheckpoint\n",
    "\n",
    "# Callbacks\n",
    "early_stop = EarlyStopping(monitor='val_accuracy', patience=5, restore_best_weights=True)\n",
    "reduce_lr = ReduceLROnPlateau(monitor='val_accuracy', factor=0.5, patience=3, min_lr=1e-7)\n",
    "checkpoint = ModelCheckpoint('/scratch/project_2010376/models/cnn_model_finetuned_guangzhou.keras',\n",
    "                             monitor='val_accuracy', save_best_only=True, mode='max')\n",
    "\n",
    "# Fine-tune the model\n",
    "history = model.fit(guangzhou_images, guangzhou_labels,\n",
    "                    validation_split=0.2,\n",
    "                    epochs=20,\n",
    "                    batch_size=64,\n",
    "                    callbacks=[early_stop, reduce_lr, checkpoint])\n",
    "\n",
    "# Save final model \n",
    "model.save('/scratch/project_2010376/models/cnn_model_finetuned_guangzhou_final.keras')\n"
   ]
  },
  {
   "cell_type": "code",
   "execution_count": 48,
   "id": "609bb278-9fe5-4b9d-a53d-f28116b0f02e",
   "metadata": {},
   "outputs": [
    {
     "name": "stdout",
     "output_type": "stream",
     "text": [
      "\u001b[1m183/183\u001b[0m \u001b[32m━━━━━━━━━━━━━━━━━━━━\u001b[0m\u001b[37m\u001b[0m \u001b[1m6s\u001b[0m 31ms/step - accuracy: 0.9492 - loss: 0.1360\n",
      "✅ Fine-tuned Guangzhou Model Accuracy: 0.9423\n"
     ]
    }
   ],
   "source": [
    "# Evaluate on Guangzhou full dataset\n",
    "eval_result = model.evaluate(guangzhou_images, guangzhou_labels)\n",
    "print(f\"✅ Fine-tuned Guangzhou Model Accuracy: {eval_result[1]:.4f}\")\n"
   ]
  },
  {
   "cell_type": "code",
   "execution_count": null,
   "id": "f5800828-2b2b-4d27-b22e-81fa3cf31af0",
   "metadata": {},
   "outputs": [],
   "source": [
    "############# confused"
   ]
  },
  {
   "cell_type": "code",
   "execution_count": 68,
   "id": "9fa5470f-8549-42ce-819a-fc867201de1a",
   "metadata": {},
   "outputs": [],
   "source": [
    "import cv2\n",
    "import pywt\n",
    "import numpy as np\n",
    "\n",
    "def preprocess_image(img, image_size=(64, 64)):\n",
    "    # Convert to 8-bit\n",
    "    img_8bit = cv2.normalize(img, None, 0, 255, cv2.NORM_MINMAX).astype(np.uint8)\n",
    "\n",
    "    # NLM filtering\n",
    "    nlm_filtered = cv2.fastNlMeansDenoising(img_8bit, None, h=30, templateWindowSize=7, searchWindowSize=21)\n",
    "\n",
    "    # CLAHE\n",
    "    clahe = cv2.createCLAHE(clipLimit=2.0, tileGridSize=(8, 8))\n",
    "    clahe_applied = clahe.apply(nlm_filtered)\n",
    "\n",
    "    # DWT\n",
    "    coeffs2 = pywt.dwt2(clahe_applied, 'haar')\n",
    "    LL, (LH, HL, HH) = coeffs2\n",
    "\n",
    "    # Resize\n",
    "    resized = cv2.resize(LL, image_size)\n",
    "\n",
    "    # Normalize\n",
    "    resized = resized / 255.0\n",
    "\n",
    "    # Expand dims\n",
    "    resized = np.expand_dims(resized, axis=-1)\n",
    "    \n",
    "    return resized\n"
   ]
  },
  {
   "cell_type": "code",
   "execution_count": 69,
   "id": "5d98d0fb-1b1e-4c40-83d4-4dc7f62c679c",
   "metadata": {},
   "outputs": [],
   "source": [
    "def load_and_preprocess_dataset(base_dir, image_size=(64, 64)):\n",
    "    images = []\n",
    "    labels = []\n",
    "    class_map = {'normal': 0, 'pneumonia': 1}\n",
    "\n",
    "    for label_name, label in class_map.items():\n",
    "        folder_path = os.path.join(base_dir, label_name)\n",
    "\n",
    "        if not os.path.exists(folder_path):\n",
    "            print(f\"⚠️ Folder missing: {folder_path}\")\n",
    "            continue\n",
    "\n",
    "        files = [f for f in os.listdir(folder_path) if f.endswith(('.png', '.jpeg', '.jpg'))]\n",
    "\n",
    "        print(f\"🔎 Loading {label_name}: {len(files)} files...\")\n",
    "\n",
    "        for file in tqdm(files):\n",
    "            img_path = os.path.join(folder_path, file)\n",
    "            img = cv2.imread(img_path, cv2.IMREAD_GRAYSCALE)\n",
    "            if img is None:\n",
    "                print(f\"❌ Failed loading {img_path}\")\n",
    "                continue\n",
    "\n",
    "            # 🔧 Preprocess the image!\n",
    "            processed_img = preprocess_image(img, image_size)\n",
    "\n",
    "            images.append(processed_img)\n",
    "            labels.append(label)\n",
    "\n",
    "    images = np.array(images)\n",
    "    labels = to_categorical(np.array(labels))\n",
    "\n",
    "    print(f\"✅ Loaded and preprocessed {len(images)} images from {base_dir}\")\n",
    "    return images, labels\n"
   ]
  },
  {
   "cell_type": "code",
   "execution_count": 70,
   "id": "1edf6f02-ad0b-4f83-897a-4733ac149157",
   "metadata": {},
   "outputs": [
    {
     "name": "stdout",
     "output_type": "stream",
     "text": [
      "✅ Model loaded successfully.\n"
     ]
    }
   ],
   "source": [
    "from tensorflow.keras.models import load_model\n",
    "\n",
    "# path to best fine-tuned model\n",
    "best_model_path = '/scratch/project_2010376/models/cnn_model_finetuned_guangzhou_final.keras'\n",
    "model = load_model(best_model_path)\n",
    "\n",
    "print(\"✅ Model loaded successfully.\")\n"
   ]
  },
  {
   "cell_type": "code",
   "execution_count": 58,
   "id": "a389d392-2544-4c40-a12f-27bd6ad7e3f4",
   "metadata": {},
   "outputs": [
    {
     "name": "stdout",
     "output_type": "stream",
     "text": [
      "96/96 - 3s - 35ms/step - accuracy: 0.5485 - loss: 2.5475\n",
      "✅ Evaluation Accuracy on Pneumonia Analysis Dataset: 0.5485\n"
     ]
    }
   ],
   "source": [
    "# Evaluate\n",
    "loss, accuracy = model.evaluate(new_images, new_labels, verbose=2)\n",
    "print(f\"✅ Evaluation Accuracy on Pneumonia Analysis Dataset: {accuracy:.4f}\")\n"
   ]
  },
  {
   "cell_type": "code",
   "execution_count": 59,
   "id": "425fa3d0-5727-4300-ae45-8499587b3af2",
   "metadata": {},
   "outputs": [
    {
     "name": "stdout",
     "output_type": "stream",
     "text": [
      "\u001b[1m96/96\u001b[0m \u001b[32m━━━━━━━━━━━━━━━━━━━━\u001b[0m\u001b[37m\u001b[0m \u001b[1m3s\u001b[0m 34ms/step\n",
      "📊 Classification Report:\n",
      "              precision    recall  f1-score   support\n",
      "\n",
      "      NORMAL       0.75      0.15      0.24      1525\n",
      "   PNEUMONIA       0.53      0.95      0.68      1525\n",
      "\n",
      "    accuracy                           0.55      3050\n",
      "   macro avg       0.64      0.55      0.46      3050\n",
      "weighted avg       0.64      0.55      0.46      3050\n",
      "\n",
      "🟦 Confusion Matrix:\n",
      "[[ 223 1302]\n",
      " [  75 1450]]\n"
     ]
    }
   ],
   "source": [
    "# Predict probabilities\n",
    "predictions = model.predict(new_images)\n",
    "\n",
    "# Convert predictions to class labels (0 or 1)\n",
    "predicted_classes = predictions.argmax(axis=1)\n",
    "\n",
    "# Ground truth class labels (0 or 1)\n",
    "true_classes = new_labels.argmax(axis=1)\n",
    "\n",
    "# Evaluate performance\n",
    "from sklearn.metrics import classification_report, confusion_matrix\n",
    "\n",
    "print(\"📊 Classification Report:\")\n",
    "print(classification_report(true_classes, predicted_classes, target_names=['NORMAL', 'PNEUMONIA']))\n",
    "\n",
    "print(\"🟦 Confusion Matrix:\")\n",
    "print(confusion_matrix(true_classes, predicted_classes))\n"
   ]
  },
  {
   "cell_type": "code",
   "execution_count": 60,
   "id": "67bf0337-39ac-4119-bf7d-00f61df1896e",
   "metadata": {},
   "outputs": [
    {
     "name": "stdout",
     "output_type": "stream",
     "text": [
      "✅ Computed class weights: {0: 1.0, 1: 1.0}\n"
     ]
    }
   ],
   "source": [
    "from sklearn.utils.class_weight import compute_class_weight\n",
    "import numpy as np\n",
    "\n",
    "# Convert one-hot labels back to single labels\n",
    "y_labels = np.argmax(new_labels, axis=1)\n",
    "\n",
    "# Compute class weights\n",
    "class_weights = compute_class_weight(class_weight='balanced', classes=np.unique(y_labels), y=y_labels)\n",
    "class_weights_dict = dict(enumerate(class_weights))\n",
    "\n",
    "print(\"✅ Computed class weights:\", class_weights_dict)\n"
   ]
  },
  {
   "cell_type": "code",
   "execution_count": 61,
   "id": "c4227398-a688-4531-983b-14e618d627cf",
   "metadata": {},
   "outputs": [
    {
     "name": "stdout",
     "output_type": "stream",
     "text": [
      "Epoch 1/20\n",
      "\u001b[1m39/39\u001b[0m \u001b[32m━━━━━━━━━━━━━━━━━━━━\u001b[0m\u001b[37m\u001b[0m \u001b[1m28s\u001b[0m 669ms/step - accuracy: 0.7536 - loss: 1.0132 - val_accuracy: 0.6590 - val_loss: 1.2561 - learning_rate: 1.0000e-05\n",
      "Epoch 2/20\n",
      "\u001b[1m39/39\u001b[0m \u001b[32m━━━━━━━━━━━━━━━━━━━━\u001b[0m\u001b[37m\u001b[0m \u001b[1m25s\u001b[0m 628ms/step - accuracy: 0.9077 - loss: 0.4216 - val_accuracy: 0.8377 - val_loss: 0.5975 - learning_rate: 1.0000e-05\n",
      "Epoch 3/20\n",
      "\u001b[1m39/39\u001b[0m \u001b[32m━━━━━━━━━━━━━━━━━━━━\u001b[0m\u001b[37m\u001b[0m \u001b[1m26s\u001b[0m 655ms/step - accuracy: 0.9153 - loss: 0.3700 - val_accuracy: 0.8607 - val_loss: 0.5297 - learning_rate: 1.0000e-05\n",
      "Epoch 4/20\n",
      "\u001b[1m39/39\u001b[0m \u001b[32m━━━━━━━━━━━━━━━━━━━━\u001b[0m\u001b[37m\u001b[0m \u001b[1m25s\u001b[0m 635ms/step - accuracy: 0.9212 - loss: 0.3149 - val_accuracy: 0.8738 - val_loss: 0.4926 - learning_rate: 1.0000e-05\n",
      "Epoch 5/20\n",
      "\u001b[1m39/39\u001b[0m \u001b[32m━━━━━━━━━━━━━━━━━━━━\u001b[0m\u001b[37m\u001b[0m \u001b[1m26s\u001b[0m 657ms/step - accuracy: 0.9173 - loss: 0.3022 - val_accuracy: 0.8738 - val_loss: 0.4759 - learning_rate: 1.0000e-05\n",
      "Epoch 6/20\n",
      "\u001b[1m39/39\u001b[0m \u001b[32m━━━━━━━━━━━━━━━━━━━━\u001b[0m\u001b[37m\u001b[0m \u001b[1m25s\u001b[0m 639ms/step - accuracy: 0.9287 - loss: 0.2650 - val_accuracy: 0.8754 - val_loss: 0.4658 - learning_rate: 1.0000e-05\n",
      "Epoch 7/20\n",
      "\u001b[1m39/39\u001b[0m \u001b[32m━━━━━━━━━━━━━━━━━━━━\u001b[0m\u001b[37m\u001b[0m \u001b[1m24s\u001b[0m 617ms/step - accuracy: 0.9312 - loss: 0.2559 - val_accuracy: 0.8770 - val_loss: 0.4559 - learning_rate: 1.0000e-05\n",
      "Epoch 8/20\n",
      "\u001b[1m39/39\u001b[0m \u001b[32m━━━━━━━━━━━━━━━━━━━━\u001b[0m\u001b[37m\u001b[0m \u001b[1m25s\u001b[0m 627ms/step - accuracy: 0.9364 - loss: 0.2523 - val_accuracy: 0.8803 - val_loss: 0.4352 - learning_rate: 1.0000e-05\n",
      "Epoch 9/20\n",
      "\u001b[1m39/39\u001b[0m \u001b[32m━━━━━━━━━━━━━━━━━━━━\u001b[0m\u001b[37m\u001b[0m \u001b[1m24s\u001b[0m 603ms/step - accuracy: 0.9304 - loss: 0.2419 - val_accuracy: 0.8787 - val_loss: 0.4398 - learning_rate: 1.0000e-05\n",
      "Epoch 10/20\n",
      "\u001b[1m39/39\u001b[0m \u001b[32m━━━━━━━━━━━━━━━━━━━━\u001b[0m\u001b[37m\u001b[0m \u001b[1m25s\u001b[0m 654ms/step - accuracy: 0.9392 - loss: 0.2336 - val_accuracy: 0.8836 - val_loss: 0.4181 - learning_rate: 1.0000e-05\n",
      "Epoch 11/20\n",
      "\u001b[1m39/39\u001b[0m \u001b[32m━━━━━━━━━━━━━━━━━━━━\u001b[0m\u001b[37m\u001b[0m \u001b[1m26s\u001b[0m 653ms/step - accuracy: 0.9399 - loss: 0.2215 - val_accuracy: 0.8820 - val_loss: 0.4386 - learning_rate: 1.0000e-05\n",
      "Epoch 12/20\n",
      "\u001b[1m39/39\u001b[0m \u001b[32m━━━━━━━━━━━━━━━━━━━━\u001b[0m\u001b[37m\u001b[0m \u001b[1m25s\u001b[0m 638ms/step - accuracy: 0.9359 - loss: 0.2299 - val_accuracy: 0.8787 - val_loss: 0.4414 - learning_rate: 1.0000e-05\n",
      "Epoch 13/20\n",
      "\u001b[1m39/39\u001b[0m \u001b[32m━━━━━━━━━━━━━━━━━━━━\u001b[0m\u001b[37m\u001b[0m \u001b[1m25s\u001b[0m 638ms/step - accuracy: 0.9361 - loss: 0.2166 - val_accuracy: 0.8803 - val_loss: 0.4356 - learning_rate: 1.0000e-05\n",
      "Epoch 14/20\n",
      "\u001b[1m39/39\u001b[0m \u001b[32m━━━━━━━━━━━━━━━━━━━━\u001b[0m\u001b[37m\u001b[0m \u001b[1m26s\u001b[0m 674ms/step - accuracy: 0.9424 - loss: 0.2015 - val_accuracy: 0.8820 - val_loss: 0.4326 - learning_rate: 5.0000e-06\n",
      "Epoch 15/20\n",
      "\u001b[1m39/39\u001b[0m \u001b[32m━━━━━━━━━━━━━━━━━━━━\u001b[0m\u001b[37m\u001b[0m \u001b[1m25s\u001b[0m 640ms/step - accuracy: 0.9432 - loss: 0.2092 - val_accuracy: 0.8787 - val_loss: 0.4435 - learning_rate: 5.0000e-06\n"
     ]
    }
   ],
   "source": [
    "history = model.fit(\n",
    "    new_images,\n",
    "    new_labels,\n",
    "    validation_split=0.2,  # or use a separate validation set\n",
    "    epochs=20,\n",
    "    batch_size=64,\n",
    "    class_weight=class_weights_dict,\n",
    "    callbacks=[checkpoint, early_stop, reduce_lr]\n",
    ")\n"
   ]
  },
  {
   "cell_type": "code",
   "execution_count": 62,
   "id": "77cab89f-fcb8-42ee-80f9-fe4263d7e6f5",
   "metadata": {},
   "outputs": [
    {
     "name": "stdout",
     "output_type": "stream",
     "text": [
      "318/318 - 10s - 32ms/step - accuracy: 0.8286 - loss: 0.4686\n",
      "✅ Validation Accuracy: 0.8286\n"
     ]
    }
   ],
   "source": [
    "# Evaluate after training\n",
    "val_loss, val_accuracy = model.evaluate(X_val, y_val, verbose=2)\n",
    "print(f\"✅ Validation Accuracy: {val_accuracy:.4f}\")\n"
   ]
  },
  {
   "cell_type": "code",
   "execution_count": 63,
   "id": "59875622-1565-47b7-8255-5d8540f928e9",
   "metadata": {},
   "outputs": [
    {
     "name": "stdout",
     "output_type": "stream",
     "text": [
      "\u001b[1m96/96\u001b[0m \u001b[32m━━━━━━━━━━━━━━━━━━━━\u001b[0m\u001b[37m\u001b[0m \u001b[1m3s\u001b[0m 34ms/step\n"
     ]
    }
   ],
   "source": [
    "predictions = model.predict(new_images)\n",
    "predicted_classes = predictions.argmax(axis=1)\n",
    "\n",
    "# Convert ground truth labels\n",
    "true_classes = new_labels.argmax(axis=1)\n"
   ]
  },
  {
   "cell_type": "code",
   "execution_count": 64,
   "id": "9092fcc1-77fe-4995-90c1-e1496bb27c21",
   "metadata": {},
   "outputs": [
    {
     "name": "stdout",
     "output_type": "stream",
     "text": [
      "📊 Classification Report:\n",
      "              precision    recall  f1-score   support\n",
      "\n",
      "      NORMAL       0.90      0.96      0.93      1525\n",
      "   PNEUMONIA       0.96      0.89      0.92      1525\n",
      "\n",
      "    accuracy                           0.93      3050\n",
      "   macro avg       0.93      0.93      0.93      3050\n",
      "weighted avg       0.93      0.93      0.93      3050\n",
      "\n",
      "🟦 Confusion Matrix:\n",
      "[[1465   60]\n",
      " [ 164 1361]]\n"
     ]
    }
   ],
   "source": [
    "from sklearn.metrics import classification_report, confusion_matrix\n",
    "\n",
    "print(\"📊 Classification Report:\")\n",
    "print(classification_report(true_classes, predicted_classes, target_names=['NORMAL', 'PNEUMONIA']))\n",
    "\n",
    "print(\"🟦 Confusion Matrix:\")\n",
    "print(confusion_matrix(true_classes, predicted_classes))\n"
   ]
  },
  {
   "cell_type": "code",
   "execution_count": 71,
   "id": "52f41980-023d-4a67-bc67-f0bbc7ce457d",
   "metadata": {},
   "outputs": [
    {
     "name": "stdout",
     "output_type": "stream",
     "text": [
      "✅ Dataset path: /scratch/project_2010376/Pneumonia_Analysis_Dataset\n",
      "✅ NORMAL folder: /scratch/project_2010376/Pneumonia_Analysis_Dataset/normal\n",
      "✅ PNEUMONIA folder: /scratch/project_2010376/Pneumonia_Analysis_Dataset/pneumonia\n"
     ]
    }
   ],
   "source": [
    "print(f\"✅ Dataset path: /scratch/project_2010376/Pneumonia_Analysis_Dataset\")\n",
    "print(f\"✅ NORMAL folder: /scratch/project_2010376/Pneumonia_Analysis_Dataset/normal\")\n",
    "print(f\"✅ PNEUMONIA folder: /scratch/project_2010376/Pneumonia_Analysis_Dataset/pneumonia\")\n"
   ]
  },
  {
   "cell_type": "code",
   "execution_count": 74,
   "id": "1ea65f3b-4a12-4edb-93db-100a69d24c44",
   "metadata": {},
   "outputs": [],
   "source": [
    "######independent dataset testing"
   ]
  },
  {
   "cell_type": "code",
   "execution_count": 75,
   "id": "f0fd6303-4bac-4343-be30-1277f672c114",
   "metadata": {},
   "outputs": [
    {
     "name": "stdout",
     "output_type": "stream",
     "text": [
      "✅ Dataset path: /scratch/project_2010376/Pneumonia_Analysis_Dataset\n",
      "✅ NORMAL folder: /scratch/project_2010376/Pneumonia_Analysis_Dataset/normal\n",
      "✅ PNEUMONIA folder: /scratch/project_2010376/Pneumonia_Analysis_Dataset/pneumonia\n",
      "🔎 Loading normal: 1525 files from /scratch/project_2010376/Pneumonia_Analysis_Dataset/normal...\n"
     ]
    },
    {
     "name": "stderr",
     "output_type": "stream",
     "text": [
      "100%|██████████| 1525/1525 [04:23<00:00,  5.78it/s]\n"
     ]
    },
    {
     "name": "stdout",
     "output_type": "stream",
     "text": [
      "🔎 Loading pneumonia: 1525 files from /scratch/project_2010376/Pneumonia_Analysis_Dataset/pneumonia...\n"
     ]
    },
    {
     "name": "stderr",
     "output_type": "stream",
     "text": [
      "100%|██████████| 1525/1525 [03:20<00:00,  7.62it/s]\n"
     ]
    },
    {
     "name": "stdout",
     "output_type": "stream",
     "text": [
      "✅ Loaded and preprocessed 3050 images from /scratch/project_2010376/Pneumonia_Analysis_Dataset\n",
      "📂 Sample loaded file paths:\n",
      " - /scratch/project_2010376/Pneumonia_Analysis_Dataset/normal/00000694_000.png\n",
      " - /scratch/project_2010376/Pneumonia_Analysis_Dataset/normal/00000781_008.png\n",
      " - /scratch/project_2010376/Pneumonia_Analysis_Dataset/normal/00000149_009.png\n",
      " - /scratch/project_2010376/Pneumonia_Analysis_Dataset/normal/00000919_000.png\n",
      " - /scratch/project_2010376/Pneumonia_Analysis_Dataset/normal/00000468_057.png\n",
      "✅ Model loaded from: /scratch/project_2010376/models/cnn_model_finetuned_guangzhou_final.keras\n",
      "✅ Computed class weights: {0: 1.0, 1: 1.0}\n",
      "Epoch 1/20\n",
      "\u001b[1m39/39\u001b[0m \u001b[32m━━━━━━━━━━━━━━━━━━━━\u001b[0m\u001b[37m\u001b[0m \u001b[1m30s\u001b[0m 635ms/step - accuracy: 0.8027 - loss: 0.6871 - val_accuracy: 0.1869 - val_loss: 6.0525 - learning_rate: 1.0000e-05\n",
      "Epoch 2/20\n",
      "\u001b[1m39/39\u001b[0m \u001b[32m━━━━━━━━━━━━━━━━━━━━\u001b[0m\u001b[37m\u001b[0m \u001b[1m25s\u001b[0m 636ms/step - accuracy: 0.9062 - loss: 0.3875 - val_accuracy: 0.6049 - val_loss: 2.1340 - learning_rate: 1.0000e-05\n",
      "Epoch 3/20\n",
      "\u001b[1m39/39\u001b[0m \u001b[32m━━━━━━━━━━━━━━━━━━━━\u001b[0m\u001b[37m\u001b[0m \u001b[1m25s\u001b[0m 638ms/step - accuracy: 0.9190 - loss: 0.3623 - val_accuracy: 0.7328 - val_loss: 1.3774 - learning_rate: 1.0000e-05\n",
      "Epoch 4/20\n",
      "\u001b[1m39/39\u001b[0m \u001b[32m━━━━━━━━━━━━━━━━━━━━\u001b[0m\u001b[37m\u001b[0m \u001b[1m25s\u001b[0m 635ms/step - accuracy: 0.9241 - loss: 0.3273 - val_accuracy: 0.8180 - val_loss: 0.9369 - learning_rate: 1.0000e-05\n",
      "Epoch 5/20\n",
      "\u001b[1m39/39\u001b[0m \u001b[32m━━━━━━━━━━━━━━━━━━━━\u001b[0m\u001b[37m\u001b[0m \u001b[1m25s\u001b[0m 644ms/step - accuracy: 0.9246 - loss: 0.3023 - val_accuracy: 0.8525 - val_loss: 0.7101 - learning_rate: 1.0000e-05\n",
      "Epoch 6/20\n",
      "\u001b[1m39/39\u001b[0m \u001b[32m━━━━━━━━━━━━━━━━━━━━\u001b[0m\u001b[37m\u001b[0m \u001b[1m25s\u001b[0m 640ms/step - accuracy: 0.9329 - loss: 0.2832 - val_accuracy: 0.8590 - val_loss: 0.6323 - learning_rate: 1.0000e-05\n",
      "Epoch 7/20\n",
      "\u001b[1m39/39\u001b[0m \u001b[32m━━━━━━━━━━━━━━━━━━━━\u001b[0m\u001b[37m\u001b[0m \u001b[1m26s\u001b[0m 668ms/step - accuracy: 0.9301 - loss: 0.2475 - val_accuracy: 0.8689 - val_loss: 0.5509 - learning_rate: 1.0000e-05\n",
      "Epoch 8/20\n",
      "\u001b[1m39/39\u001b[0m \u001b[32m━━━━━━━━━━━━━━━━━━━━\u001b[0m\u001b[37m\u001b[0m \u001b[1m24s\u001b[0m 622ms/step - accuracy: 0.9341 - loss: 0.2440 - val_accuracy: 0.8705 - val_loss: 0.5290 - learning_rate: 1.0000e-05\n",
      "Epoch 9/20\n",
      "\u001b[1m39/39\u001b[0m \u001b[32m━━━━━━━━━━━━━━━━━━━━\u001b[0m\u001b[37m\u001b[0m \u001b[1m25s\u001b[0m 633ms/step - accuracy: 0.9389 - loss: 0.2414 - val_accuracy: 0.8721 - val_loss: 0.5120 - learning_rate: 1.0000e-05\n",
      "Epoch 10/20\n",
      "\u001b[1m39/39\u001b[0m \u001b[32m━━━━━━━━━━━━━━━━━━━━\u001b[0m\u001b[37m\u001b[0m \u001b[1m26s\u001b[0m 669ms/step - accuracy: 0.9337 - loss: 0.2333 - val_accuracy: 0.8738 - val_loss: 0.4635 - learning_rate: 1.0000e-05\n",
      "Epoch 11/20\n",
      "\u001b[1m39/39\u001b[0m \u001b[32m━━━━━━━━━━━━━━━━━━━━\u001b[0m\u001b[37m\u001b[0m \u001b[1m26s\u001b[0m 670ms/step - accuracy: 0.9354 - loss: 0.2252 - val_accuracy: 0.8738 - val_loss: 0.4649 - learning_rate: 1.0000e-05\n",
      "Epoch 12/20\n",
      "\u001b[1m39/39\u001b[0m \u001b[32m━━━━━━━━━━━━━━━━━━━━\u001b[0m\u001b[37m\u001b[0m \u001b[1m26s\u001b[0m 665ms/step - accuracy: 0.9379 - loss: 0.2231 - val_accuracy: 0.8738 - val_loss: 0.4676 - learning_rate: 1.0000e-05\n",
      "Epoch 13/20\n",
      "\u001b[1m39/39\u001b[0m \u001b[32m━━━━━━━━━━━━━━━━━━━━\u001b[0m\u001b[37m\u001b[0m \u001b[1m26s\u001b[0m 651ms/step - accuracy: 0.9420 - loss: 0.2196 - val_accuracy: 0.8738 - val_loss: 0.4372 - learning_rate: 1.0000e-05\n",
      "Epoch 14/20\n",
      "\u001b[1m39/39\u001b[0m \u001b[32m━━━━━━━━━━━━━━━━━━━━\u001b[0m\u001b[37m\u001b[0m \u001b[1m26s\u001b[0m 664ms/step - accuracy: 0.9426 - loss: 0.2039 - val_accuracy: 0.8738 - val_loss: 0.4478 - learning_rate: 5.0000e-06\n",
      "Epoch 15/20\n",
      "\u001b[1m39/39\u001b[0m \u001b[32m━━━━━━━━━━━━━━━━━━━━\u001b[0m\u001b[37m\u001b[0m \u001b[1m24s\u001b[0m 619ms/step - accuracy: 0.9430 - loss: 0.2031 - val_accuracy: 0.8738 - val_loss: 0.4502 - learning_rate: 5.0000e-06\n",
      "96/96 - 3s - 29ms/step - accuracy: 0.9315 - loss: 0.2435\n",
      "✅ Evaluation Accuracy on Pneumonia Analysis Dataset: 0.9315\n",
      "\u001b[1m96/96\u001b[0m \u001b[32m━━━━━━━━━━━━━━━━━━━━\u001b[0m\u001b[37m\u001b[0m \u001b[1m3s\u001b[0m 29ms/step\n",
      "📊 Classification Report:\n",
      "              precision    recall  f1-score   support\n",
      "\n",
      "      NORMAL       0.89      0.98      0.93      1525\n",
      "   PNEUMONIA       0.98      0.88      0.93      1525\n",
      "\n",
      "    accuracy                           0.93      3050\n",
      "   macro avg       0.94      0.93      0.93      3050\n",
      "weighted avg       0.94      0.93      0.93      3050\n",
      "\n",
      "🟦 Confusion Matrix:\n",
      "[[1493   32]\n",
      " [ 177 1348]]\n",
      "❗ Found 209 misclassified samples.\n"
     ]
    },
    {
     "data": {
      "image/png": "[encoded data removed]",
      "text/plain": [
       "<Figure size 640x480 with 1 Axes>"
      ]
     },
     "metadata": {},
     "output_type": "display_data"
    },
    {
     "data": {
      "image/png": "[encoded data removed]",
      "text/plain": [
       "<Figure size 640x480 with 1 Axes>"
      ]
     },
     "metadata": {},
     "output_type": "display_data"
    },
    {
     "data": {
      "image/png": "[encoded data removed]",
      "text/plain": [
       "<Figure size 640x480 with 1 Axes>"
      ]
     },
     "metadata": {},
     "output_type": "display_data"
    },
    {
     "data": {
      "image/png": "[encoded data removed]",
      "text/plain": [
       "<Figure size 640x480 with 1 Axes>"
      ]
     },
     "metadata": {},
     "output_type": "display_data"
    },
    {
     "data": {
      "image/png": "[encoded data removed]",
      "text/plain": [
       "<Figure size 640x480 with 1 Axes>"
      ]
     },
     "metadata": {},
     "output_type": "display_data"
    }
   ],
   "source": [
    "import os\n",
    "import cv2\n",
    "import pywt\n",
    "import numpy as np\n",
    "from tqdm import tqdm\n",
    "from tensorflow.keras.utils import to_categorical\n",
    "from tensorflow.keras.models import load_model\n",
    "from sklearn.utils.class_weight import compute_class_weight\n",
    "from sklearn.metrics import classification_report, confusion_matrix\n",
    "\n",
    "# ==================================\n",
    "# ✅ Confirm Dataset Paths\n",
    "# ==================================\n",
    "DATASET_DIR = '/scratch/project_2010376/Pneumonia_Analysis_Dataset'\n",
    "NORMAL_DIR = os.path.join(DATASET_DIR, 'normal')\n",
    "PNEUMONIA_DIR = os.path.join(DATASET_DIR, 'pneumonia')\n",
    "\n",
    "print(f\"✅ Dataset path: {DATASET_DIR}\")\n",
    "print(f\"✅ NORMAL folder: {NORMAL_DIR}\")\n",
    "print(f\"✅ PNEUMONIA folder: {PNEUMONIA_DIR}\")\n",
    "\n",
    "# ==================================\n",
    "# ✅ Preprocess Function (NLM, CLAHE, DWT)\n",
    "# ==================================\n",
    "def preprocess_image(img, image_size=(64, 64)):\n",
    "    # Convert to 8-bit\n",
    "    img_8bit = cv2.normalize(img, None, 0, 255, cv2.NORM_MINMAX).astype(np.uint8)\n",
    "\n",
    "    # NLM filtering\n",
    "    nlm_filtered = cv2.fastNlMeansDenoising(img_8bit, None, h=30, templateWindowSize=7, searchWindowSize=21)\n",
    "\n",
    "    # CLAHE\n",
    "    clahe = cv2.createCLAHE(clipLimit=2.0, tileGridSize=(8, 8))\n",
    "    clahe_applied = clahe.apply(nlm_filtered)\n",
    "\n",
    "    # DWT\n",
    "    coeffs2 = pywt.dwt2(clahe_applied, 'haar')\n",
    "    LL, (LH, HL, HH) = coeffs2\n",
    "\n",
    "    # Resize\n",
    "    resized = cv2.resize(LL, image_size)\n",
    "\n",
    "    # Normalize\n",
    "    resized = resized / 255.0\n",
    "\n",
    "    # Expand dims to match model input\n",
    "    resized = np.expand_dims(resized, axis=-1)\n",
    "    \n",
    "    return resized\n",
    "\n",
    "# ==================================\n",
    "# ✅ Load and Preprocess Dataset (with file paths)\n",
    "# ==================================\n",
    "def load_and_preprocess_dataset_with_paths(base_dir, image_size=(64, 64)):\n",
    "    images = []\n",
    "    labels = []\n",
    "    image_paths = []\n",
    "    class_map = {'normal': 0, 'pneumonia': 1}\n",
    "\n",
    "    for label_name, label in class_map.items():\n",
    "        folder_path = os.path.join(base_dir, label_name)\n",
    "\n",
    "        if not os.path.exists(folder_path):\n",
    "            print(f\"⚠️ Folder missing: {folder_path}\")\n",
    "            continue\n",
    "\n",
    "        files = [f for f in os.listdir(folder_path) if f.endswith(('.png', '.jpeg', '.jpg'))]\n",
    "\n",
    "        print(f\"🔎 Loading {label_name}: {len(files)} files from {folder_path}...\")\n",
    "\n",
    "        for file in tqdm(files):\n",
    "            img_path = os.path.join(folder_path, file)\n",
    "            img = cv2.imread(img_path, cv2.IMREAD_GRAYSCALE)\n",
    "            if img is None:\n",
    "                print(f\"❌ Failed loading {img_path}\")\n",
    "                continue\n",
    "\n",
    "            # 🔧 Preprocess the image\n",
    "            processed_img = preprocess_image(img, image_size)\n",
    "\n",
    "            images.append(processed_img)\n",
    "            labels.append(label)\n",
    "            image_paths.append(img_path)\n",
    "\n",
    "    images = np.array(images)\n",
    "    labels = to_categorical(np.array(labels))\n",
    "\n",
    "    print(f\"✅ Loaded and preprocessed {len(images)} images from {base_dir}\")\n",
    "    return images, labels, image_paths\n",
    "\n",
    "# ==================================\n",
    "# ✅ Load Data\n",
    "# ==================================\n",
    "new_images, new_labels, image_paths = load_and_preprocess_dataset_with_paths(DATASET_DIR)\n",
    "\n",
    "# Confirm samples\n",
    "print(\"📂 Sample loaded file paths:\")\n",
    "for path in image_paths[:5]:\n",
    "    print(f\" - {path}\")\n",
    "\n",
    "# ==================================\n",
    "# ✅ Load the Best Model\n",
    "# ==================================\n",
    "best_model_path = '/scratch/project_2010376/models/cnn_model_finetuned_guangzhou_final.keras'\n",
    "model = load_model(best_model_path)\n",
    "print(f\"✅ Model loaded from: {best_model_path}\")\n",
    "\n",
    "# ==================================\n",
    "# ✅ Compute Class Weights (to handle imbalance)\n",
    "# ==================================\n",
    "y_labels = np.argmax(new_labels, axis=1)\n",
    "class_weights = compute_class_weight(class_weight='balanced', classes=np.unique(y_labels), y=y_labels)\n",
    "class_weights_dict = dict(enumerate(class_weights))\n",
    "\n",
    "print(\"✅ Computed class weights:\", class_weights_dict)\n",
    "\n",
    "# ==================================\n",
    "# ✅ Fine-Tune or Evaluate\n",
    "# ==================================\n",
    "\n",
    "# Optional fine-tune if needed (comment out if not fine-tuning)\n",
    "from tensorflow.keras.callbacks import ModelCheckpoint, EarlyStopping, ReduceLROnPlateau\n",
    "\n",
    "checkpoint = ModelCheckpoint('/scratch/project_2010376/models/cnn_model_finetuned_analysis.keras',\n",
    "                             monitor='val_accuracy', save_best_only=True, mode='max')\n",
    "early_stop = EarlyStopping(monitor='val_accuracy', patience=5, restore_best_weights=True)\n",
    "reduce_lr = ReduceLROnPlateau(monitor='val_accuracy', factor=0.5, patience=3, min_lr=1e-7)\n",
    "\n",
    "history = model.fit(\n",
    "    new_images,\n",
    "    new_labels,\n",
    "    validation_split=0.2,\n",
    "    epochs=20,\n",
    "    batch_size=64,\n",
    "    class_weight=class_weights_dict,\n",
    "    callbacks=[checkpoint, early_stop, reduce_lr]\n",
    ")\n",
    "\n",
    "# ==================================\n",
    "# ✅ Evaluate on the Entire Dataset\n",
    "# ==================================\n",
    "loss, accuracy = model.evaluate(new_images, new_labels, verbose=2)\n",
    "print(f\"✅ Evaluation Accuracy on Pneumonia Analysis Dataset: {accuracy:.4f}\")\n",
    "\n",
    "# ==================================\n",
    "# ✅ Predict and Analyze Results\n",
    "# ==================================\n",
    "predictions = model.predict(new_images)\n",
    "predicted_classes = predictions.argmax(axis=1)\n",
    "true_classes = new_labels.argmax(axis=1)\n",
    "\n",
    "print(\"📊 Classification Report:\")\n",
    "print(classification_report(true_classes, predicted_classes, target_names=['NORMAL', 'PNEUMONIA']))\n",
    "\n",
    "print(\"🟦 Confusion Matrix:\")\n",
    "print(confusion_matrix(true_classes, predicted_classes))\n",
    "\n",
    "# ==================================\n",
    "# ✅ Optional: Show Some Misclassified Images\n",
    "# ==================================\n",
    "import matplotlib.pyplot as plt\n",
    "\n",
    "misclassified_indices = np.where(predicted_classes != true_classes)[0]\n",
    "\n",
    "if len(misclassified_indices) > 0:\n",
    "    print(f\"❗ Found {len(misclassified_indices)} misclassified samples.\")\n",
    "    for idx in misclassified_indices[:5]:  # Show first 5\n",
    "        img = new_images[idx].squeeze()\n",
    "        true_label = 'NORMAL' if true_classes[idx] == 0 else 'PNEUMONIA'\n",
    "        pred_label = 'NORMAL' if predicted_classes[idx] == 0 else 'PNEUMONIA'\n",
    "        path = image_paths[idx]\n",
    "\n",
    "        plt.imshow(img, cmap='gray')\n",
    "        plt.title(f\"True: {true_label}, Pred: {pred_label}\\n{path}\")\n",
    "        plt.axis('off')\n",
    "        plt.show()\n",
    "else:\n",
    "    print(\"✅ No misclassified samples!\")\n",
    "\n"
   ]
  },
  {
   "cell_type": "code",
   "execution_count": null,
   "id": "d50c74d4-64b2-41d4-bf8f-46e981236821",
   "metadata": {},
   "outputs": [],
   "source": []
  }
 ],
 "metadata": {
  "kernelspec": {
   "display_name": "Python 3 (ipykernel)",
   "language": "python",
   "name": "python3"
  },
  "language_info": {
   "codemirror_mode": {
    "name": "ipython",
    "version": 3
   },
   "file_extension": ".py",
   "mimetype": "text/x-python",
   "name": "python",
   "nbconvert_exporter": "python",
   "pygments_lexer": "ipython3",
   "version": "3.10.14"
  }
 },
 "nbformat": 4,
 "nbformat_minor": 5
}
